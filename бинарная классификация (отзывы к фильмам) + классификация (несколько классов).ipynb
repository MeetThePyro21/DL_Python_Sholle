{
 "cells": [
  {
   "cell_type": "code",
   "execution_count": 68,
   "metadata": {},
   "outputs": [],
   "source": [
    "from keras.datasets import imdb\n",
    "(train_data, train_labels), (test_data, test_labels) = imdb.load_data( num_words=10000)"
   ]
  },
  {
   "cell_type": "markdown",
   "metadata": {},
   "source": [
    "Например, для классификации в две категории можно использовать функцию бинарной перекрестной энтропии, для классификации в не- сколько категорий — многозначной перекрестной энтропии, для задач регрессии — среднеквадратичной ошибки, для обучения на последовательностях — ассоциативной временной классификации (Connectionist Temporal Classification, CTC) и т. д."
   ]
  },
  {
   "cell_type": "markdown",
   "metadata": {},
   "source": [
    "## 3 .4 . Классификация отзывов к фильмам: пример бинарной классификации"
   ]
  },
  {
   "cell_type": "code",
   "execution_count": 2,
   "metadata": {},
   "outputs": [
    {
     "data": {
      "text/plain": [
       "'2.3.1'"
      ]
     },
     "execution_count": 2,
     "metadata": {},
     "output_type": "execute_result"
    }
   ],
   "source": [
    "import keras\n",
    "keras.__version__"
   ]
  },
  {
   "cell_type": "code",
   "execution_count": 3,
   "metadata": {},
   "outputs": [
    {
     "data": {
      "text/plain": [
       "[1,\n",
       " 14,\n",
       " 22,\n",
       " 16,\n",
       " 43,\n",
       " 530,\n",
       " 973,\n",
       " 1622,\n",
       " 1385,\n",
       " 65,\n",
       " 458,\n",
       " 4468,\n",
       " 66,\n",
       " 3941,\n",
       " 4,\n",
       " 173,\n",
       " 36,\n",
       " 256,\n",
       " 5,\n",
       " 25,\n",
       " 100,\n",
       " 43,\n",
       " 838,\n",
       " 112,\n",
       " 50,\n",
       " 670,\n",
       " 2,\n",
       " 9,\n",
       " 35,\n",
       " 480,\n",
       " 284,\n",
       " 5,\n",
       " 150,\n",
       " 4,\n",
       " 172,\n",
       " 112,\n",
       " 167,\n",
       " 2,\n",
       " 336,\n",
       " 385,\n",
       " 39,\n",
       " 4,\n",
       " 172,\n",
       " 4536,\n",
       " 1111,\n",
       " 17,\n",
       " 546,\n",
       " 38,\n",
       " 13,\n",
       " 447,\n",
       " 4,\n",
       " 192,\n",
       " 50,\n",
       " 16,\n",
       " 6,\n",
       " 147,\n",
       " 2025,\n",
       " 19,\n",
       " 14,\n",
       " 22,\n",
       " 4,\n",
       " 1920,\n",
       " 4613,\n",
       " 469,\n",
       " 4,\n",
       " 22,\n",
       " 71,\n",
       " 87,\n",
       " 12,\n",
       " 16,\n",
       " 43,\n",
       " 530,\n",
       " 38,\n",
       " 76,\n",
       " 15,\n",
       " 13,\n",
       " 1247,\n",
       " 4,\n",
       " 22,\n",
       " 17,\n",
       " 515,\n",
       " 17,\n",
       " 12,\n",
       " 16,\n",
       " 626,\n",
       " 18,\n",
       " 2,\n",
       " 5,\n",
       " 62,\n",
       " 386,\n",
       " 12,\n",
       " 8,\n",
       " 316,\n",
       " 8,\n",
       " 106,\n",
       " 5,\n",
       " 4,\n",
       " 2223,\n",
       " 5244,\n",
       " 16,\n",
       " 480,\n",
       " 66,\n",
       " 3785,\n",
       " 33,\n",
       " 4,\n",
       " 130,\n",
       " 12,\n",
       " 16,\n",
       " 38,\n",
       " 619,\n",
       " 5,\n",
       " 25,\n",
       " 124,\n",
       " 51,\n",
       " 36,\n",
       " 135,\n",
       " 48,\n",
       " 25,\n",
       " 1415,\n",
       " 33,\n",
       " 6,\n",
       " 22,\n",
       " 12,\n",
       " 215,\n",
       " 28,\n",
       " 77,\n",
       " 52,\n",
       " 5,\n",
       " 14,\n",
       " 407,\n",
       " 16,\n",
       " 82,\n",
       " 2,\n",
       " 8,\n",
       " 4,\n",
       " 107,\n",
       " 117,\n",
       " 5952,\n",
       " 15,\n",
       " 256,\n",
       " 4,\n",
       " 2,\n",
       " 7,\n",
       " 3766,\n",
       " 5,\n",
       " 723,\n",
       " 36,\n",
       " 71,\n",
       " 43,\n",
       " 530,\n",
       " 476,\n",
       " 26,\n",
       " 400,\n",
       " 317,\n",
       " 46,\n",
       " 7,\n",
       " 4,\n",
       " 2,\n",
       " 1029,\n",
       " 13,\n",
       " 104,\n",
       " 88,\n",
       " 4,\n",
       " 381,\n",
       " 15,\n",
       " 297,\n",
       " 98,\n",
       " 32,\n",
       " 2071,\n",
       " 56,\n",
       " 26,\n",
       " 141,\n",
       " 6,\n",
       " 194,\n",
       " 7486,\n",
       " 18,\n",
       " 4,\n",
       " 226,\n",
       " 22,\n",
       " 21,\n",
       " 134,\n",
       " 476,\n",
       " 26,\n",
       " 480,\n",
       " 5,\n",
       " 144,\n",
       " 30,\n",
       " 5535,\n",
       " 18,\n",
       " 51,\n",
       " 36,\n",
       " 28,\n",
       " 224,\n",
       " 92,\n",
       " 25,\n",
       " 104,\n",
       " 4,\n",
       " 226,\n",
       " 65,\n",
       " 16,\n",
       " 38,\n",
       " 1334,\n",
       " 88,\n",
       " 12,\n",
       " 16,\n",
       " 283,\n",
       " 5,\n",
       " 16,\n",
       " 4472,\n",
       " 113,\n",
       " 103,\n",
       " 32,\n",
       " 15,\n",
       " 16,\n",
       " 5345,\n",
       " 19,\n",
       " 178,\n",
       " 32]"
      ]
     },
     "execution_count": 3,
     "metadata": {},
     "output_type": "execute_result"
    }
   ],
   "source": [
    "train_data[0]"
   ]
  },
  {
   "cell_type": "code",
   "execution_count": 4,
   "metadata": {},
   "outputs": [
    {
     "data": {
      "text/plain": [
       "9999"
      ]
     },
     "execution_count": 4,
     "metadata": {},
     "output_type": "execute_result"
    }
   ],
   "source": [
    "max([max(sequence) for sequence in train_data])\n",
    "#Поскольку мы ограничили себя 10 000 наиболее употребительных слов, в наборе отсутствуют индексы больше 10 000"
   ]
  },
  {
   "cell_type": "code",
   "execution_count": 5,
   "metadata": {},
   "outputs": [],
   "source": [
    "word_index = imdb.get_word_index()\n",
    "reverse_word_index = dict(\n",
    "    [(value, key) for (key, value) in word_index.items()]) \n",
    "decoded_review = ' '.join(\n",
    "    [reverse_word_index.get(i - 3, '?') for i in train_data[0]])"
   ]
  },
  {
   "cell_type": "code",
   "execution_count": 6,
   "metadata": {},
   "outputs": [
    {
     "data": {
      "text/plain": [
       "\"? this film was just brilliant casting location scenery story direction everyone's really suited the part they played and you could just imagine being there robert ? is an amazing actor and now the same being director ? father came from the same scottish island as myself so i loved the fact there was a real connection with this film the witty remarks throughout the film were great it was just brilliant so much that i bought the film as soon as it was released for ? and would recommend it to everyone to watch and the fly fishing was amazing really cried at the end it was so sad and you know what they say if you cry at a film it must have been good and this definitely was also ? to the two little boy's that played the ? of norman and paul they were just brilliant children are often left out of the ? list i think because the stars that play them all grown up are such a big profile for the whole film but these children are amazing and should be praised for what they have done don't you think the whole story was so lovely because it was true and was someone's life after all that was shared with us all\""
      ]
     },
     "execution_count": 6,
     "metadata": {},
     "output_type": "execute_result"
    }
   ],
   "source": [
    "decoded_review"
   ]
  },
  {
   "cell_type": "raw",
   "metadata": {},
   "source": [
    "Нельзя передать списки целых чисел непосредственно в нейронную сеть. Поэтому мы должны преобразовать их в тензоры. Сделать это можно двумя способами:\n",
    "\n",
    "Привести все списки к одинаковой длине, преобразовать их в тензоры целых чисел с формой (образцы, индексы_слов) и затем передать их в первый слой сети, способный обрабатывать такие целочисленные тензоры (слой Embedding, о котором подробнее мы поговорим далее в этой книге).\n",
    "\n",
    "Выполнить прямое кодирование списков в векторы нулей и единиц. Это может означать, например, преобразование последовательности [3, 5] в 10 000-мерный вектор, все элементы которого содержат нули, кроме элементов с индексами 3 и 5, которые содержат единицы. Затем их можно передать в первый слой сети типа Dense, способный обрабатывать векторизованные данные с вещественными\n",
    "числами."
   ]
  },
  {
   "cell_type": "markdown",
   "metadata": {},
   "source": [
    "### Кодирование последовательностей целых чисел в бинарную матрицу"
   ]
  },
  {
   "cell_type": "code",
   "execution_count": 7,
   "metadata": {},
   "outputs": [],
   "source": [
    "import numpy as np\n",
    "\n",
    "def vectorize_sequences(sequences, dimension=10000): \n",
    "    results = np.zeros((len(sequences), dimension)) #Создание матрицы с фор- мой (len(sequences), dimension)\n",
    "    for i, sequence in enumerate(sequences):\n",
    "        results[i, sequence] = 1. #Запись единицы в элемент с данным индексом\n",
    "    return results"
   ]
  },
  {
   "cell_type": "code",
   "execution_count": 8,
   "metadata": {},
   "outputs": [],
   "source": [
    "x_train = vectorize_sequences(train_data) #Векторизованные обучающие данные\n",
    "x_test = vectorize_sequences(test_data) #Векторизованные контрольные данные"
   ]
  },
  {
   "cell_type": "code",
   "execution_count": 9,
   "metadata": {},
   "outputs": [
    {
     "data": {
      "text/plain": [
       "array([0., 1., 1., ..., 0., 0., 0.])"
      ]
     },
     "execution_count": 9,
     "metadata": {},
     "output_type": "execute_result"
    }
   ],
   "source": [
    "x_train[0]"
   ]
  },
  {
   "cell_type": "code",
   "execution_count": 10,
   "metadata": {},
   "outputs": [
    {
     "data": {
      "text/plain": [
       "array([0., 1., 1., ..., 0., 0., 0.])"
      ]
     },
     "execution_count": 10,
     "metadata": {},
     "output_type": "execute_result"
    }
   ],
   "source": [
    "x_test[0]"
   ]
  },
  {
   "cell_type": "markdown",
   "metadata": {},
   "source": [
    "Нам также нужно векторизовать метки, что делается очень просто:"
   ]
  },
  {
   "cell_type": "code",
   "execution_count": 11,
   "metadata": {},
   "outputs": [],
   "source": [
    "y_train = np.asarray(train_labels).astype('float32') \n",
    "y_test = np.asarray(test_labels).astype('float32')"
   ]
  },
  {
   "cell_type": "code",
   "execution_count": 12,
   "metadata": {},
   "outputs": [
    {
     "name": "stdout",
     "output_type": "stream",
     "text": [
      "<class 'numpy.int64'>\n",
      "<class 'numpy.float32'>\n"
     ]
    }
   ],
   "source": [
    "print(type(train_labels[0]))\n",
    "print(type(y_train[0]))"
   ]
  },
  {
   "cell_type": "code",
   "execution_count": 13,
   "metadata": {},
   "outputs": [
    {
     "data": {
      "text/plain": [
       "array([1., 0., 0., ..., 0., 1., 0.], dtype=float32)"
      ]
     },
     "execution_count": 13,
     "metadata": {},
     "output_type": "execute_result"
    }
   ],
   "source": [
    "y_train"
   ]
  },
  {
   "cell_type": "code",
   "execution_count": 14,
   "metadata": {},
   "outputs": [
    {
     "data": {
      "text/plain": [
       "array([0., 1., 1., ..., 0., 0., 0.], dtype=float32)"
      ]
     },
     "execution_count": 14,
     "metadata": {},
     "output_type": "execute_result"
    }
   ],
   "source": [
    "y_test"
   ]
  },
  {
   "cell_type": "markdown",
   "metadata": {},
   "source": [
    "### Конструирование сети"
   ]
  },
  {
   "cell_type": "raw",
   "metadata": {},
   "source": [
    "Входные данные представлены векторами, а метки — скалярами (единицами и нулями): это самый простой набор данных, какой можно встретить. С задачами этого вида прекрасно справляются сети, организованные как простой стек полносвязных (Dense) слоев с операцией активации relu: Dense(16, activation='relu').\n",
    "\n",
    "Аргумент (16), передаваемый каждому слою Dense, — это число скрытых нейронов слоя. Скрытый нейрон (hidden unit) — это измерение в пространстве представлений слоя. Как рассказывалось в главе 2, каждый слой Dense с операцией активации relu реализует следующую цепочку операций с тензорами: output = relu(dot(W, input) + b)"
   ]
  },
  {
   "cell_type": "raw",
   "metadata": {},
   "source": [
    "В отношении такого стека слоев Dense требуется принять два важных архитектурных решения:\n",
    "сколько слоев использовать;\n",
    "сколько скрытых нейронов выбрать для каждого слоя.\n",
    "\n",
    "В главе 4 вы познакомитесь с формальными принципами, помогающими сделать выбор. А пока вам остается только довериться мне в следующем выборе:\n",
    "\n",
    "два промежуточных слоя с 16 скрытыми нейронами в каждом;\n",
    "третий слой будет выводить скалярное значение — оценку направленности\n",
    "текущего отзыва."
   ]
  },
  {
   "cell_type": "raw",
   "metadata": {},
   "source": [
    "Функция relu (rectified linear unit — блок линейной ректификации) использует- ся для преобразования отрицательных значений в ноль (рис. 3.4), а сигмоидная функция рассредоточивает произвольные значения по интервалу [0, 1], возвращая значения, которые можно интерпретировать как вероятность."
   ]
  },
  {
   "cell_type": "code",
   "execution_count": 15,
   "metadata": {},
   "outputs": [],
   "source": [
    "from keras import models\n",
    "from keras import layers\n",
    "model = models.Sequential()\n",
    "model.add(layers.Dense(16, activation='relu', input_shape=(10000,)))\n",
    "model.add(layers.Dense(16, activation='relu'))\n",
    "model.add(layers.Dense(1, activation='sigmoid'))"
   ]
  },
  {
   "cell_type": "code",
   "execution_count": 16,
   "metadata": {},
   "outputs": [],
   "source": [
    "# model.compile(optimizer='rmsprop',\n",
    "#               loss='binary_crossentropy',\n",
    "#               metrics=['accuracy'])"
   ]
  },
  {
   "cell_type": "code",
   "execution_count": 17,
   "metadata": {},
   "outputs": [],
   "source": [
    "# #Настройка оптимизатора\n",
    "# from keras import optimizers\n",
    "\n",
    "# model.compile(optimizer=optimizers.RMSprop(lr=0.001),\n",
    "#               loss='binary_crossentropy',\n",
    "#               metrics=['accuracy'])"
   ]
  },
  {
   "cell_type": "code",
   "execution_count": 18,
   "metadata": {},
   "outputs": [],
   "source": [
    "# #Использование нестандартных функций потерь и метрик\n",
    "# from keras import losses\n",
    "# from keras import metrics\n",
    "\n",
    "# model.compile(optimizer=optimizers.RMSprop(lr=0.001),\n",
    "#               loss=losses.binary_crossentropy,\n",
    "#               metrics=[metrics.binary_accuracy])"
   ]
  },
  {
   "cell_type": "code",
   "execution_count": 19,
   "metadata": {},
   "outputs": [],
   "source": [
    "#Создание проверочного набора \n",
    "x_val = x_train[:10000]\n",
    "partial_x_train = x_train[10000:]\n",
    "\n",
    "y_val = y_train[:10000] \n",
    "partial_y_train = y_train[10000:]"
   ]
  },
  {
   "cell_type": "code",
   "execution_count": 20,
   "metadata": {},
   "outputs": [],
   "source": [
    "model.compile(optimizer='rmsprop',\n",
    "              loss='binary_crossentropy',\n",
    "              metrics=['acc'])"
   ]
  },
  {
   "cell_type": "raw",
   "metadata": {},
   "source": [
    "Теперь проведем обучение модели в течение 20 эпох (выполнив 20 итераций по всем образцам в тензорах x_train и y_train) пакетами по 512 образцов. В то же время будем следить за потерями и точностью на 10 000 отложенных образцов. Для этого достаточно передать проверочные данные в аргументе validation_data."
   ]
  },
  {
   "cell_type": "code",
   "execution_count": 21,
   "metadata": {},
   "outputs": [
    {
     "name": "stdout",
     "output_type": "stream",
     "text": [
      "Train on 15000 samples, validate on 10000 samples\n",
      "Epoch 1/20\n",
      "15000/15000 [==============================] - 4s 287us/step - loss: 0.5182 - acc: 0.7865 - val_loss: 0.3944 - val_acc: 0.8662\n",
      "Epoch 2/20\n",
      "15000/15000 [==============================] - 2s 106us/step - loss: 0.3149 - acc: 0.9015 - val_loss: 0.3119 - val_acc: 0.8839\n",
      "Epoch 3/20\n",
      "15000/15000 [==============================] - 1s 100us/step - loss: 0.2279 - acc: 0.9292 - val_loss: 0.2792 - val_acc: 0.8912\n",
      "Epoch 4/20\n",
      "15000/15000 [==============================] - 1s 98us/step - loss: 0.1818 - acc: 0.9425 - val_loss: 0.2805 - val_acc: 0.8864\n",
      "Epoch 5/20\n",
      "15000/15000 [==============================] - 2s 127us/step - loss: 0.1487 - acc: 0.9532 - val_loss: 0.2799 - val_acc: 0.8879\n",
      "Epoch 6/20\n",
      "15000/15000 [==============================] - 1s 97us/step - loss: 0.1251 - acc: 0.9601 - val_loss: 0.2870 - val_acc: 0.8874\n",
      "Epoch 7/20\n",
      "15000/15000 [==============================] - 2s 106us/step - loss: 0.1023 - acc: 0.9692 - val_loss: 0.3057 - val_acc: 0.8835\n",
      "Epoch 8/20\n",
      "15000/15000 [==============================] - 2s 123us/step - loss: 0.0871 - acc: 0.9734 - val_loss: 0.3267 - val_acc: 0.8789\n",
      "Epoch 9/20\n",
      "15000/15000 [==============================] - 2s 124us/step - loss: 0.0714 - acc: 0.9811 - val_loss: 0.3448 - val_acc: 0.8792\n",
      "Epoch 10/20\n",
      "15000/15000 [==============================] - 2s 117us/step - loss: 0.0619 - acc: 0.9826 - val_loss: 0.3663 - val_acc: 0.8813\n",
      "Epoch 11/20\n",
      "15000/15000 [==============================] - 2s 107us/step - loss: 0.0486 - acc: 0.9889 - val_loss: 0.4106 - val_acc: 0.8756\n",
      "Epoch 12/20\n",
      "15000/15000 [==============================] - 2s 124us/step - loss: 0.0414 - acc: 0.9907 - val_loss: 0.4248 - val_acc: 0.8750\n",
      "Epoch 13/20\n",
      "15000/15000 [==============================] - 2s 115us/step - loss: 0.0349 - acc: 0.9921 - val_loss: 0.4653 - val_acc: 0.8720\n",
      "Epoch 14/20\n",
      "15000/15000 [==============================] - 1s 94us/step - loss: 0.0279 - acc: 0.9946 - val_loss: 0.4983 - val_acc: 0.8679\n",
      "Epoch 15/20\n",
      "15000/15000 [==============================] - 1s 94us/step - loss: 0.0229 - acc: 0.9961 - val_loss: 0.5157 - val_acc: 0.8708\n",
      "Epoch 16/20\n",
      "15000/15000 [==============================] - 1s 97us/step - loss: 0.0188 - acc: 0.9973 - val_loss: 0.5469 - val_acc: 0.8704\n",
      "Epoch 17/20\n",
      "15000/15000 [==============================] - 1s 94us/step - loss: 0.0125 - acc: 0.9989 - val_loss: 0.5861 - val_acc: 0.8662\n",
      "Epoch 18/20\n",
      "15000/15000 [==============================] - 1s 94us/step - loss: 0.0114 - acc: 0.9989 - val_loss: 0.6277 - val_acc: 0.8637\n",
      "Epoch 19/20\n",
      "15000/15000 [==============================] - 1s 98us/step - loss: 0.0096 - acc: 0.9989 - val_loss: 0.6577 - val_acc: 0.8650\n",
      "Epoch 20/20\n",
      "15000/15000 [==============================] - 1s 97us/step - loss: 0.0051 - acc: 0.9999 - val_loss: 0.7088 - val_acc: 0.8645\n"
     ]
    }
   ],
   "source": [
    "history = model.fit(partial_x_train,\n",
    "                    partial_y_train,\n",
    "                    epochs=20,\n",
    "                    batch_size=512,\n",
    "                    validation_data=(x_val, y_val))"
   ]
  },
  {
   "cell_type": "code",
   "execution_count": 22,
   "metadata": {},
   "outputs": [
    {
     "data": {
      "text/plain": [
       "dict_keys(['val_loss', 'val_acc', 'loss', 'acc'])"
      ]
     },
     "execution_count": 22,
     "metadata": {},
     "output_type": "execute_result"
    }
   ],
   "source": [
    "history_dict = history.history\n",
    "history_dict.keys()"
   ]
  },
  {
   "cell_type": "code",
   "execution_count": 26,
   "metadata": {},
   "outputs": [],
   "source": [
    "import matplotlib.pyplot as plt\n",
    "\n",
    "# acc = history.history['acc']\n",
    "# val_acc = history.history['val_acc']\n",
    "# loss = history_dict['loss'] \n",
    "# val_loss = history_dict['val_loss']\n",
    "\n",
    "# epochs = range(1, len(acc) + 1)\n",
    "\n",
    "# #«bo» - «синяя точка»\n",
    "# plt.plot(epochs, loss_values, 'bo', label='Training loss') \n",
    "# plt.plot(epochs, val_loss_values, 'b', label='Validation loss') \n",
    "# plt.title('Training and validation loss')\n",
    "# plt.xlabel('Epochs')\n",
    "# plt.ylabel('Loss') \n",
    "# plt.legend()\n",
    "# plt.show()\n"
   ]
  },
  {
   "cell_type": "code",
   "execution_count": 27,
   "metadata": {},
   "outputs": [
    {
     "data": {
      "image/png": "[encoded data removed]",
      "text/plain": [
       "<Figure size 432x288 with 1 Axes>"
      ]
     },
     "metadata": {
      "needs_background": "light"
     },
     "output_type": "display_data"
    }
   ],
   "source": [
    "plt.clf() #Очистить рисунок\n",
    "acc = history_dict['acc']\n",
    "val_acc= history_dict['val_acc']\n",
    "plt.plot(epochs, acc, 'bo', label='Training acc') \n",
    "plt.plot(epochs, val_acc, 'b', label='Validation acc') \n",
    "plt.title('Training and validation accuracy') \n",
    "plt.xlabel('Epochs')\n",
    "plt.ylabel('Accuracy') \n",
    "plt.legend()\n",
    "plt.show()"
   ]
  },
  {
   "cell_type": "raw",
   "metadata": {},
   "source": [
    "Как видите, на этапе обучения потери снижаются с каждой эпохой, а точность растет. Именно такое поведение ожидается от оптимизации градиентным спу- ском: величина, которую вы пытаетесь минимизировать, должна становиться все меньше с каждой итерацией. Но это не относится к потерям и точности на этапе проверки: похоже, что они достигли пика в четвертую эпоху. \n",
    "\n",
    "Это пример того, о чем мы предупреждали выше: модель, показывающая хорошие результаты на обучающих данных, не обязательно будет показывать такие же хорошие результаты на данных, которые не видела прежде. Выражаясь точнее, в данном случае наблюдается переобучение: после второй эпохи произошла чрезмерная оптимизация на обучающих данных, и в результате получилось представление, характерное для обучающих данных, не обобщающее данные за пределами обу- чающего набора.\n",
    "\n",
    "В данном случае для предотвращения переобучения можно прекратить обучение после третьей эпохи. Вообще говоря, есть целый спектр приемов, ослабляющих эффект переобучения, которые мы рассмотрим в главе 4."
   ]
  },
  {
   "cell_type": "markdown",
   "metadata": {},
   "source": [
    "## А теперь обучим новую сеть с нуля в течение четырех эпох и затем оценим получившийся результат на контрольных данных.\n"
   ]
  },
  {
   "cell_type": "code",
   "execution_count": 28,
   "metadata": {},
   "outputs": [
    {
     "name": "stdout",
     "output_type": "stream",
     "text": [
      "Epoch 1/4\n",
      "25000/25000 [==============================] - 2s 81us/step - loss: 0.4757 - accuracy: 0.8187\n",
      "Epoch 2/4\n",
      "25000/25000 [==============================] - 2s 75us/step - loss: 0.2735 - accuracy: 0.9073\n",
      "Epoch 3/4\n",
      "25000/25000 [==============================] - 2s 73us/step - loss: 0.2051 - accuracy: 0.9278\n",
      "Epoch 4/4\n",
      "25000/25000 [==============================] - 2s 71us/step - loss: 0.1724 - accuracy: 0.9400\n",
      "25000/25000 [==============================] - 5s 184us/step\n"
     ]
    }
   ],
   "source": [
    "model = models.Sequential()\n",
    "model.add(layers.Dense(16, activation='relu', input_shape=(10000,)))\n",
    "model.add(layers.Dense(16, activation='relu'))\n",
    "model.add(layers.Dense(1, activation='sigmoid'))\n",
    "\n",
    "model.compile(optimizer='rmsprop',\n",
    "              loss='binary_crossentropy',\n",
    "              metrics=['accuracy'])\n",
    "\n",
    "model.fit(x_train,\n",
    "          y_train,\n",
    "          epochs=4,\n",
    "          batch_size=512)\n",
    "\n",
    "results = model.evaluate(x_test, y_test)"
   ]
  },
  {
   "cell_type": "code",
   "execution_count": 29,
   "metadata": {},
   "outputs": [
    {
     "data": {
      "text/plain": [
       "[0.2911772852802277, 0.8841999769210815]"
      ]
     },
     "execution_count": 29,
     "metadata": {},
     "output_type": "execute_result"
    }
   ],
   "source": [
    "#Это простейшее решение позволило достичь точности 88 %.\n",
    "results"
   ]
  },
  {
   "cell_type": "raw",
   "metadata": {},
   "source": [
    "Использование обученной сети для предсказаний на новых данных\n",
    "\n",
    "После обучения сети ее можно использовать для решения практических задач. Например, попробуем предсказать вероятность того, что отзывы будут положи- тельными, с помощью метода predict:"
   ]
  },
  {
   "cell_type": "code",
   "execution_count": 30,
   "metadata": {},
   "outputs": [
    {
     "data": {
      "text/plain": [
       "array([[0.19202387],\n",
       "       [0.9986292 ],\n",
       "       [0.8771146 ],\n",
       "       ...,\n",
       "       [0.10484046],\n",
       "       [0.06336246],\n",
       "       [0.63275194]], dtype=float32)"
      ]
     },
     "execution_count": 30,
     "metadata": {},
     "output_type": "execute_result"
    }
   ],
   "source": [
    "model.predict(x_test)"
   ]
  },
  {
   "cell_type": "raw",
   "metadata": {},
   "source": [
    "сеть уверена в одних образцах (0,99 или выше или 0,01 или ниже), но не так уверена в других (0,6; 0,4)."
   ]
  },
  {
   "cell_type": "raw",
   "metadata": {},
   "source": [
    "Вот какие выводы вы должны сделать из этого примера:\n",
    "\n",
    "Обычно исходные данные приходится подвергать некоторой предварительной обработке, чтобы передать их в нейронную сеть в виде тензоров. Последовательности слов можно преобразовать в бинарные векторы, но существуют также другие варианты.\n",
    "\n",
    "Стек слоев Dense с функцией активации relu способен решать широкий круг задач (включая классификацию эмоциональной окраски), и вы, вероятно, чаще всего будете использовать именно эту комбинацию.\n",
    "\n",
    "В задаче бинарной классификации (с двумя выходными классами) в конце вашей нейросети должен находиться слой Dense с одним нейроном и функцией активации sigmoid: результатом работы сети должно быть скалярное значение в диапазоне между 0 и 1, представляющее собой вероятность.\n",
    "\n",
    "С таким скалярным результатом, получаемым с помощью сигмоидной функции, в задачах бинарной классификации следует использовать функцию потерь binary_crossentropy.\n",
    "\n",
    "В общем случае оптимизатор rmsprop является наиболее подходящим выбором для любого типа задач. Одной головной болью меньше для вас.\n",
    "\n",
    "По мере улучшения на обучающих данных нейронные сети рано или поздно начинают переобучаться, демонстрируя ухудшение результатов на данных, которые они прежде не видели. Поэтому всегда контролируйте качество работы сети на данных не из обучающего набора."
   ]
  },
  {
   "cell_type": "markdown",
   "metadata": {},
   "source": [
    "______"
   ]
  },
  {
   "cell_type": "markdown",
   "metadata": {},
   "source": [
    "# 3 .5 . Классификация новостных лент: пример классификации в несколько классов\n"
   ]
  },
  {
   "cell_type": "raw",
   "metadata": {},
   "source": [
    "Мы будем работать с набором данных Reuters — выборкой новостных лент и их тем, публиковавшихся агентством Reuters в 1986 году. Это простой набор данных, широко используемых для классификации текста. Существует 46 разных тем; не- которые темы более широко представлены, некоторые — менее, но для каждой из них в обучающем наборе имеется не менее 10 примеров."
   ]
  },
  {
   "cell_type": "code",
   "execution_count": 31,
   "metadata": {},
   "outputs": [],
   "source": [
    "from keras.datasets import reuters\n",
    "(train_data, train_labels), (test_data, test_labels) = reuters.load_data( num_words=10000)"
   ]
  },
  {
   "cell_type": "raw",
   "metadata": {},
   "source": [
    "По аналогии с примером IMDB, аргумент num_words=10000 ограничивает данные 10 000 наиболее часто встречающимися словами.\n",
    "Всего у нас имеется 8982 обучающих и 2246 контрольных примеров:"
   ]
  },
  {
   "cell_type": "code",
   "execution_count": 32,
   "metadata": {},
   "outputs": [
    {
     "data": {
      "text/plain": [
       "8982"
      ]
     },
     "execution_count": 32,
     "metadata": {},
     "output_type": "execute_result"
    }
   ],
   "source": [
    "len(train_data)"
   ]
  },
  {
   "cell_type": "code",
   "execution_count": 33,
   "metadata": {},
   "outputs": [
    {
     "data": {
      "text/plain": [
       "2246"
      ]
     },
     "execution_count": 33,
     "metadata": {},
     "output_type": "execute_result"
    }
   ],
   "source": [
    "len(test_data)"
   ]
  },
  {
   "cell_type": "raw",
   "metadata": {},
   "source": [
    "По аналогии с отзывами в базе данных IMDB, каждый пример — это список целых чисел (индексов слов):"
   ]
  },
  {
   "cell_type": "code",
   "execution_count": 34,
   "metadata": {},
   "outputs": [
    {
     "data": {
      "text/plain": [
       "[1,\n",
       " 245,\n",
       " 273,\n",
       " 207,\n",
       " 156,\n",
       " 53,\n",
       " 74,\n",
       " 160,\n",
       " 26,\n",
       " 14,\n",
       " 46,\n",
       " 296,\n",
       " 26,\n",
       " 39,\n",
       " 74,\n",
       " 2979,\n",
       " 3554,\n",
       " 14,\n",
       " 46,\n",
       " 4689,\n",
       " 4329,\n",
       " 86,\n",
       " 61,\n",
       " 3499,\n",
       " 4795,\n",
       " 14,\n",
       " 61,\n",
       " 451,\n",
       " 4329,\n",
       " 17,\n",
       " 12]"
      ]
     },
     "execution_count": 34,
     "metadata": {},
     "output_type": "execute_result"
    }
   ],
   "source": [
    "train_data[10]"
   ]
  },
  {
   "cell_type": "raw",
   "metadata": {},
   "source": [
    "Вот как можно декодировать индексы в слова:"
   ]
  },
  {
   "cell_type": "code",
   "execution_count": 35,
   "metadata": {},
   "outputs": [],
   "source": [
    "word_index = reuters.get_word_index()\n",
    "reverse_word_index = dict([(value, key) for (key, value) in word_index. items()])\n",
    "decoded_newswire = ' '.join([reverse_word_index.get(i - 3, '?') for i in\n",
    "    train_data[0]])"
   ]
  },
  {
   "cell_type": "raw",
   "metadata": {},
   "source": [
    "Обратите внимание, что индексы смещены на 3, потому что индексы 0, 1 и 2 зарезервированы для слов «padding» (отступ), «start of sequence» (начало последовательности) и «unknown» (неизвестно)"
   ]
  },
  {
   "cell_type": "code",
   "execution_count": 36,
   "metadata": {},
   "outputs": [
    {
     "data": {
      "text/plain": [
       "{10996: 'mdbl',\n",
       " 16260: 'fawc',\n",
       " 12089: 'degussa',\n",
       " 8803: 'woods',\n",
       " 13796: 'hanging',\n",
       " 20672: 'localized',\n",
       " 20673: 'sation',\n",
       " 20675: 'chanthaburi',\n",
       " 10997: 'refunding',\n",
       " 8804: 'hermann',\n",
       " 20676: 'passsengers',\n",
       " 20677: 'stipulate',\n",
       " 8352: 'heublein',\n",
       " 20713: 'screaming',\n",
       " 16261: 'tcby',\n",
       " 185: 'four',\n",
       " 1642: 'grains',\n",
       " 20680: 'broiler',\n",
       " 12090: 'wooden',\n",
       " 1220: 'wednesday',\n",
       " 13797: 'highveld',\n",
       " 7593: 'duffour',\n",
       " 20681: '0053',\n",
       " 3914: 'elections',\n",
       " 2563: '270',\n",
       " 3551: '271',\n",
       " 5113: '272',\n",
       " 3552: '273',\n",
       " 3400: '274',\n",
       " 7975: 'rudman',\n",
       " 3401: '276',\n",
       " 3478: '277',\n",
       " 3632: '278',\n",
       " 4309: '279',\n",
       " 9381: 'dormancy',\n",
       " 7247: 'errors',\n",
       " 3086: 'deferred',\n",
       " 20683: 'sptnd',\n",
       " 8805: 'cooking',\n",
       " 20684: 'stratabit',\n",
       " 16262: 'designing',\n",
       " 20685: 'metalurgicos',\n",
       " 13798: 'databank',\n",
       " 20686: '300er',\n",
       " 20687: 'shocks',\n",
       " 7972: 'nawg',\n",
       " 20688: 'tnta',\n",
       " 20689: 'perforations',\n",
       " 2891: 'affiliates',\n",
       " 20690: '27p',\n",
       " 16263: 'ching',\n",
       " 595: 'china',\n",
       " 16264: 'wagyu',\n",
       " 3189: 'affiliated',\n",
       " 16265: 'chino',\n",
       " 16266: 'chinh',\n",
       " 20692: 'slickline',\n",
       " 13799: 'doldrums',\n",
       " 12092: 'kids',\n",
       " 3028: 'climbed',\n",
       " 6693: 'controversy',\n",
       " 20693: 'kidd',\n",
       " 12093: 'spotty',\n",
       " 12639: 'rebel',\n",
       " 9382: 'millimetres',\n",
       " 4007: 'golden',\n",
       " 5689: 'projection',\n",
       " 12094: 'stern',\n",
       " 7903: \"hudson's\",\n",
       " 10066: 'dna',\n",
       " 20695: 'dnc',\n",
       " 20696: 'hodler',\n",
       " 2394: 'lme',\n",
       " 20697: 'insolvancy',\n",
       " 13800: 'music',\n",
       " 1984: 'therefore',\n",
       " 10998: 'dns',\n",
       " 6959: 'distortions',\n",
       " 13801: 'thassos',\n",
       " 20698: 'populations',\n",
       " 8806: 'meteorologist',\n",
       " 43: 'loss',\n",
       " 9383: 'exco',\n",
       " 20813: 'adventist',\n",
       " 16267: 'murchison',\n",
       " 10999: 'locked',\n",
       " 13802: 'kampala',\n",
       " 20699: 'arndt',\n",
       " 1267: 'nakasone',\n",
       " 20700: 'steinweg',\n",
       " 3633: \"india's\",\n",
       " 3029: 'wang',\n",
       " 10067: 'wane',\n",
       " 13803: 'unjust',\n",
       " 13804: 'titanium',\n",
       " 850: 'want',\n",
       " 20701: 'pinto',\n",
       " 16268: \"institutes'\",\n",
       " 7973: 'absolute',\n",
       " 4677: 'travel',\n",
       " 6422: 'cutback',\n",
       " 16269: 'nazmi',\n",
       " 1858: 'modest',\n",
       " 16270: 'shopwell',\n",
       " 20702: 'sedi',\n",
       " 20703: 'adoped',\n",
       " 16271: 'tulis',\n",
       " 20704: '18th',\n",
       " 20705: \"wmc's\",\n",
       " 20706: 'menlo',\n",
       " 11000: 'reiners',\n",
       " 12095: 'farmlands',\n",
       " 20707: 'nonsensical',\n",
       " 20708: 'elisra',\n",
       " 2461: 'welcomed',\n",
       " 20709: 'peup',\n",
       " 16272: \"holiday's\",\n",
       " 20711: 'activating',\n",
       " 16273: 'avondale',\n",
       " 16274: 'interational',\n",
       " 20712: 'welcomes',\n",
       " 16275: 'fip',\n",
       " 11001: 'tailings',\n",
       " 4205: 'fit',\n",
       " 16276: 'lifeline',\n",
       " 1916: 'bringing',\n",
       " 4819: 'fix',\n",
       " 6164: '624',\n",
       " 12096: 'naturalite',\n",
       " 6165: 'wales',\n",
       " 8807: 'fin',\n",
       " 11129: 'fio',\n",
       " 20714: 'ceremenony',\n",
       " 20715: 'sovr',\n",
       " 20716: \"yeo's\",\n",
       " 1788: 'effects',\n",
       " 13805: 'sixteen',\n",
       " 8808: 'undeveloped',\n",
       " 13806: 'glutted',\n",
       " 20717: 'barton',\n",
       " 20718: 'froday',\n",
       " 10089: 'arrow',\n",
       " 11002: 'stabilises',\n",
       " 6960: 'allan',\n",
       " 20719: '374p',\n",
       " 3891: '393',\n",
       " 4008: '392',\n",
       " 4206: '391',\n",
       " 3079: '390',\n",
       " 4550: '397',\n",
       " 6166: '396',\n",
       " 6423: '395',\n",
       " 4207: '394',\n",
       " 6961: '399',\n",
       " 4208: '398',\n",
       " 7595: 'stabilised',\n",
       " 5114: 'smelters',\n",
       " 20720: 'oprah',\n",
       " 20721: 'orginially',\n",
       " 20722: \"tvx's\",\n",
       " 16278: 'ponomarev',\n",
       " 20723: 'enviroment',\n",
       " 20724: \"reeves'\",\n",
       " 8363: 'mason',\n",
       " 1670: 'encourage',\n",
       " 7596: 'adapt',\n",
       " 12776: 'abbott',\n",
       " 13808: 'stamping',\n",
       " 20726: 'colquiri',\n",
       " 11003: 'ambrit',\n",
       " 8353: 'strata',\n",
       " 4821: 'corrects',\n",
       " 11922: 'sandra',\n",
       " 859: 'estimate',\n",
       " 20727: 'universally',\n",
       " 20728: 'chlorine',\n",
       " 16279: 'competes',\n",
       " 10068: 'leiner',\n",
       " 8809: 'ministries',\n",
       " 8810: 'disturbed',\n",
       " 13809: 'competed',\n",
       " 8811: 'juergen',\n",
       " 13810: 'kfw',\n",
       " 11004: 'turben',\n",
       " 9384: 'reintroduced',\n",
       " 20729: 'maladies',\n",
       " 4101: 'chevron',\n",
       " 16280: 'lazere',\n",
       " 8812: 'antilles',\n",
       " 11907: 'dti',\n",
       " 9070: 'specially',\n",
       " 4678: 'bilzerian',\n",
       " 13811: 'bakelite',\n",
       " 20730: 'renovated',\n",
       " 568: 'service',\n",
       " 16281: 'payless',\n",
       " 20731: 'spiegler',\n",
       " 831: 'needed',\n",
       " 16282: 'wigglesworth',\n",
       " 6962: 'master',\n",
       " 13812: 'antonson',\n",
       " 20732: 'genesis',\n",
       " 13813: 'vismara',\n",
       " 20734: 'organically',\n",
       " 20735: \"accords'\",\n",
       " 5940: 'task',\n",
       " 7974: 'positively',\n",
       " 3479: 'feasibility',\n",
       " 6963: 'ahmed',\n",
       " 13814: \"suralco's\",\n",
       " 20736: 'awacs',\n",
       " 16283: 'idly',\n",
       " 20737: 'regulator',\n",
       " 12097: 'pseudorabies',\n",
       " 16284: 'staubli',\n",
       " 8813: 'nzi',\n",
       " 5115: 'feeling',\n",
       " 3127: '275',\n",
       " 20738: '6819',\n",
       " 16285: 'gorman',\n",
       " 8354: 'sustaining',\n",
       " 9385: 'spectrum',\n",
       " 20739: 'consenting',\n",
       " 12098: 'recapitalized',\n",
       " 11562: 'sailed',\n",
       " 7597: 'dozen',\n",
       " 1985: 'affairs',\n",
       " 2253: 'courier',\n",
       " 8355: 'kremlin',\n",
       " 895: 'shipments',\n",
       " 16286: \"aquino's\",\n",
       " 10070: 'committing',\n",
       " 5293: 'sugarcane',\n",
       " 9386: 'diminishing',\n",
       " 16287: 'vexing',\n",
       " 11005: 'simplify',\n",
       " 6167: 'mouth',\n",
       " 7248: 'steinhardt',\n",
       " 8814: 'conceded',\n",
       " 9387: 'bradford',\n",
       " 7976: 'singer',\n",
       " 20740: '5602',\n",
       " 13816: \"1987's\",\n",
       " 4950: 'tech',\n",
       " 6424: 'teck',\n",
       " 20741: 'majv',\n",
       " 666: 'saying',\n",
       " 16477: 'dickey',\n",
       " 20742: 'sweetner',\n",
       " 21149: 'teresa',\n",
       " 20743: 'ulcer',\n",
       " 13817: 'cheaply',\n",
       " 2361: 'thai',\n",
       " 6964: 'orleans',\n",
       " 16290: 'excavator',\n",
       " 6168: 'rico',\n",
       " 12099: 'lube',\n",
       " 13818: 'rick',\n",
       " 4679: 'rich',\n",
       " 13819: 'kerna',\n",
       " 950: 'rice',\n",
       " 4209: 'rica',\n",
       " 5503: 'plate',\n",
       " 16291: 'platt',\n",
       " 8356: 'altogether',\n",
       " 8815: 'jaguar',\n",
       " 20744: 'dynair',\n",
       " 8816: 'patch',\n",
       " 2892: 'ldp',\n",
       " 13820: 'boarded',\n",
       " 16292: 'precluding',\n",
       " 11006: 'clarified',\n",
       " 16293: 'sensitivity',\n",
       " 1511: 'alternative',\n",
       " 11007: 'clarifies',\n",
       " 5116: 'lots',\n",
       " 7598: 'irs',\n",
       " 20745: 'irv',\n",
       " 13821: 'iri',\n",
       " 13822: 'ira',\n",
       " 5690: 'timber',\n",
       " 20746: 'ire',\n",
       " 5219: 'discipline',\n",
       " 1937: 'extend',\n",
       " 3634: 'nature',\n",
       " 16295: \"amb's\",\n",
       " 16296: 'dunhill',\n",
       " 2142: 'extent',\n",
       " 20747: 'restrcitions',\n",
       " 2396: 'heating',\n",
       " 11008: \"mannesmann's\",\n",
       " 20748: 'outsanding',\n",
       " 20749: 'multimillions',\n",
       " 13824: 'sarcinelli',\n",
       " 6694: 'southeastern',\n",
       " 10071: 'eradicate',\n",
       " 9388: 'libyan',\n",
       " 20750: 'foreclosing',\n",
       " 12101: 'maclaine',\n",
       " 20751: 'fra',\n",
       " 353: 'union',\n",
       " 11009: 'frn',\n",
       " 386: 'much',\n",
       " 12102: 'fry',\n",
       " 20752: 'mothball',\n",
       " 10072: 'chlorazepate',\n",
       " 12103: 'dxns',\n",
       " 19981: 'toyko',\n",
       " 20753: 'spit',\n",
       " 16297: '007050',\n",
       " 16298: 'freehold',\n",
       " 13825: 'davy',\n",
       " 11010: 'dave',\n",
       " 12177: 'spie',\n",
       " 10117: 'aguayo',\n",
       " 12104: 'wildcat',\n",
       " 10069: 'fecs',\n",
       " 20754: 'kennan',\n",
       " 16299: 'intal',\n",
       " 9389: 'contingencies',\n",
       " 16551: 'professionally',\n",
       " 16300: 'microbiological',\n",
       " 20756: 'misconstrued',\n",
       " 409: 'k',\n",
       " 20757: 'securitiesd',\n",
       " 16301: 'deferring',\n",
       " 5941: 'kohl',\n",
       " 3030: 'conditioned',\n",
       " 20758: 'fnhb',\n",
       " 16302: \"october's\",\n",
       " 13954: 'memorial',\n",
       " 6965: 'democracies',\n",
       " 27520: 'conformed',\n",
       " 464: 'split',\n",
       " 12105: \"bond's\",\n",
       " 11112: 'thinly',\n",
       " 16515: 'dunkirk',\n",
       " 16303: 'cavanaugh',\n",
       " 13827: \"securities'\",\n",
       " 21345: 'marches',\n",
       " 16304: 'issam',\n",
       " 2020: 'workforce',\n",
       " 12106: 'meinert',\n",
       " 13828: 'boiler',\n",
       " 5294: \"bp's\",\n",
       " 16305: 'torpedoed',\n",
       " 20762: 'indidate',\n",
       " 13829: 'downwardly',\n",
       " 20763: 'viviez',\n",
       " 20764: 'vladiminovich',\n",
       " 16306: 'academic',\n",
       " 20765: 'architecural',\n",
       " 1117: 'corporate',\n",
       " 16307: 'appropriately',\n",
       " 20766: 'teicc',\n",
       " 20767: \"hanover's\",\n",
       " 8817: 'aristech',\n",
       " 20768: 'portrayed',\n",
       " 21383: 'raffineries',\n",
       " 20770: 'hai',\n",
       " 7599: 'hal',\n",
       " 13830: 'ham',\n",
       " 10073: 'han',\n",
       " 20771: 'e15b',\n",
       " 61: 'had',\n",
       " 20772: 'hay',\n",
       " 13831: 'botchwey',\n",
       " 10074: 'haq',\n",
       " 37: 'has',\n",
       " 13832: 'hat',\n",
       " 20773: 'hav',\n",
       " 20774: 'fortin',\n",
       " 8818: 'municipal',\n",
       " 20775: 'osman',\n",
       " 20776: 'fsical',\n",
       " 3480: 'elders',\n",
       " 12107: 'survival',\n",
       " 16308: 'unequivocally',\n",
       " 2519: 'objective',\n",
       " 6695: 'indicative',\n",
       " 10075: 'shadow',\n",
       " 21411: 'riskiness',\n",
       " 20778: 'positiive',\n",
       " 10076: \"american's\",\n",
       " 16309: 'alick',\n",
       " 16310: 'harima',\n",
       " 12108: 'alice',\n",
       " 20779: 'altschul',\n",
       " 16311: 'festivities',\n",
       " 20780: 'medecines',\n",
       " 2942: 'beneficial',\n",
       " 12109: 'yoweri',\n",
       " 13833: 'crowd',\n",
       " 9390: 'crowe',\n",
       " 3553: 'crown',\n",
       " 13679: 'topping',\n",
       " 8819: 'captive',\n",
       " 12110: 'billboard',\n",
       " 6169: 'fiduciary',\n",
       " 3402: 'bottom',\n",
       " 20782: 'plucked',\n",
       " 20783: 'locksmithing',\n",
       " 9391: 'ecopetrol',\n",
       " 24018: 'pipestone',\n",
       " 5505: \"growers'\",\n",
       " 20785: 'borrows',\n",
       " 16312: 'eduard',\n",
       " 13834: 'venpres',\n",
       " 16313: 'bamboo',\n",
       " 13835: 'foolish',\n",
       " 20786: 'uruguyan',\n",
       " 20787: 'officeholders',\n",
       " 20788: 'economiques',\n",
       " 16314: 'aden',\n",
       " 4822: 'maxwell',\n",
       " 4680: 'marshall',\n",
       " 16315: 'honeymoon',\n",
       " 16316: 'administer',\n",
       " 20790: 'shoots',\n",
       " 16317: 'rubbertech',\n",
       " 16318: 'johsen',\n",
       " 10077: 'reciprocity',\n",
       " 13836: 'fabric',\n",
       " 20791: 'suffice',\n",
       " 20792: 'spokemsan',\n",
       " 20793: \"sonora's\",\n",
       " 16319: '5865',\n",
       " 16320: \"systems'\",\n",
       " 20794: 'perfumes',\n",
       " 20795: 'halycon',\n",
       " 20796: 'nonvoting',\n",
       " 7250: 'safeguard',\n",
       " 21538: 'sawdust',\n",
       " 20797: \"else's\",\n",
       " 13837: 'arrays',\n",
       " 20798: 'aza',\n",
       " 20799: 'smasher',\n",
       " 12111: 'complications',\n",
       " 1813: 'pesos',\n",
       " 20800: 'relabelling',\n",
       " 3722: 'passenger',\n",
       " 12112: \"avon's\",\n",
       " 20801: 'megahertz',\n",
       " 10683: 'mirror',\n",
       " 8357: 'minas',\n",
       " 16322: 'bourdain',\n",
       " 20802: 'crownx',\n",
       " 6425: 'eventual',\n",
       " 1207: 'crowns',\n",
       " 1369: 'role',\n",
       " 20803: 'obliges',\n",
       " 16323: 'rolf',\n",
       " 13838: 'vegetative',\n",
       " 20804: 'rolm',\n",
       " 4419: 'roll',\n",
       " 2463: 'intend',\n",
       " 16324: 'palms',\n",
       " 19255: 'denys',\n",
       " 13839: 'transported',\n",
       " 20805: 'moresby',\n",
       " 16325: 'devon',\n",
       " 1351: 'intent',\n",
       " 20806: \"camco's\",\n",
       " 5942: 'variable',\n",
       " 20807: 'transporter',\n",
       " 16326: 'danske',\n",
       " 13840: 'friedhelm',\n",
       " 8358: 'hawker',\n",
       " 17774: \"sand's\",\n",
       " 20808: 'preseving',\n",
       " 12113: '80386',\n",
       " 16328: 'bnls',\n",
       " 19984: 'ordination',\n",
       " 11011: 'overturned',\n",
       " 16329: 'erred',\n",
       " 6696: 'cincinnati',\n",
       " 16710: 'corps',\n",
       " 20809: 'whoever',\n",
       " 16330: 'osp',\n",
       " 13841: 'osr',\n",
       " 12114: 'ost',\n",
       " 16331: 'chair',\n",
       " 5647: '690',\n",
       " 20810: 'grapples',\n",
       " 13842: 'megawatts',\n",
       " 20811: 'photocopiers',\n",
       " 20812: 'sconninx',\n",
       " 2274: 'circumstances',\n",
       " 13843: 'oversight',\n",
       " 20814: \"paradyne's\",\n",
       " 6363: '691',\n",
       " 20815: 'paychecks',\n",
       " 13844: \"stadelmann's\",\n",
       " 3241: 'choice',\n",
       " 11012: 'vastagh',\n",
       " 8820: 'embark',\n",
       " 9392: 'gloomy',\n",
       " 9393: 'stays',\n",
       " 4009: 'exact',\n",
       " 5117: 'minute',\n",
       " 11892: 'kittiwake',\n",
       " 20816: 'picul',\n",
       " 20817: 'skewed',\n",
       " 11013: 'cooke',\n",
       " 10078: 'defaults',\n",
       " 11014: 'reimpose',\n",
       " 9394: 'hindered',\n",
       " 20818: 'lengthened',\n",
       " 16333: 'chopping',\n",
       " 13845: 'mckiernan',\n",
       " 20819: 'collaspe',\n",
       " 7251: 'corazon',\n",
       " 7600: 'antwerp',\n",
       " 13846: 'abdullah',\n",
       " 13847: 'goldston',\n",
       " 442: '300',\n",
       " 20821: 'cassa',\n",
       " 20822: 'casse',\n",
       " 4081: '695',\n",
       " 2979: 'ground',\n",
       " 839: 'boost',\n",
       " 16334: 'azusa',\n",
       " 9395: 'drafted',\n",
       " 4823: '303',\n",
       " 13848: 'climbs',\n",
       " 7601: 'honour',\n",
       " 20823: 'vanderbilt',\n",
       " 3968: '305',\n",
       " 3031: 'address',\n",
       " 8821: 'dwindling',\n",
       " 7252: 'benson',\n",
       " 12115: 'enroll',\n",
       " 501: 'revenues',\n",
       " 12116: 'impacted',\n",
       " 20826: 'queue',\n",
       " 10079: 'accomplished',\n",
       " 7602: 'throughput',\n",
       " 9396: 'influx',\n",
       " 10080: 'stockbuilding',\n",
       " 20827: 'aproximates',\n",
       " 13849: 'petroleo',\n",
       " 16335: 'sistemas',\n",
       " 14053: 'feretti',\n",
       " 5943: 'opposes',\n",
       " 882: 'working',\n",
       " 20829: 'perished',\n",
       " 13850: 'oldham',\n",
       " 20830: '27000',\n",
       " 19245: 'optimize',\n",
       " 20832: 'vigour',\n",
       " 1580: 'opposed',\n",
       " 16336: 'liberalizing',\n",
       " 20833: 'wvz',\n",
       " 20834: 'dampness',\n",
       " 13851: 'approving',\n",
       " 13496: 'sierra',\n",
       " 20835: 'entrepot',\n",
       " 224: 'currency',\n",
       " 1499: 'originally',\n",
       " 20837: 'tindemans',\n",
       " 16337: 'valorem',\n",
       " 477: 'following',\n",
       " 20838: 'fossen',\n",
       " 11016: 'locke',\n",
       " 20839: 'employess',\n",
       " 12117: 'rotberg',\n",
       " 16338: 'parachute',\n",
       " 11017: 'locks',\n",
       " 12255: 'incremental',\n",
       " 16339: 'woolowrth',\n",
       " 20841: 'listens',\n",
       " 7253: 'litre',\n",
       " 3554: 'edouard',\n",
       " 1377: 'ounce',\n",
       " 20843: 'nicanor',\n",
       " 20844: 'sucocitrico',\n",
       " 16340: 'minicomputers',\n",
       " 16341: \"silva's\",\n",
       " 11018: 'restitutions',\n",
       " 16342: 'custer',\n",
       " 2590: '3rd',\n",
       " 10081: 'fueled',\n",
       " 20845: 'trydahl',\n",
       " 11019: 'aice',\n",
       " 12118: 'harmon',\n",
       " 10082: 'conscious',\n",
       " 20846: 'herbicidesand',\n",
       " 20847: 'subdivisions',\n",
       " 20848: \"veslefrikk's\",\n",
       " 11020: 'swollen',\n",
       " 7978: 'pulled',\n",
       " 20849: 'tilney',\n",
       " 203: 'years',\n",
       " 20850: 'structuring',\n",
       " 20851: 'episodes',\n",
       " 16343: 'sportscene',\n",
       " 16344: \"northair's\",\n",
       " 20852: 'jig',\n",
       " 20853: 'jin',\n",
       " 3403: 'jim',\n",
       " 8359: 'troubles',\n",
       " 13852: 'workforces',\n",
       " 2362: 'suspension',\n",
       " 3892: 'troubled',\n",
       " 16345: 'fondiaria',\n",
       " 6697: 'modestly',\n",
       " 12119: 'recipients',\n",
       " 7979: 'civilian',\n",
       " 13853: 'indigenous',\n",
       " 20854: 'overpowering',\n",
       " 1051: 'drilling',\n",
       " 16346: 'sorted',\n",
       " 16347: 'lichtenstein',\n",
       " 20855: 'bedevil',\n",
       " 20856: 'dispite',\n",
       " 16843: 'battleships',\n",
       " 4824: 'instability',\n",
       " 95: 'quarter',\n",
       " 20857: 'salado',\n",
       " 5692: 'honduras',\n",
       " 13855: \"chevron's\",\n",
       " 12273: \"lazere's\",\n",
       " 2660: 'receipt',\n",
       " 8360: 'sponsor',\n",
       " 4825: 'entering',\n",
       " 16349: \"kcbt's\",\n",
       " 19987: 'nowicki',\n",
       " 13856: 'salads',\n",
       " 16351: 'augar',\n",
       " 7980: '797',\n",
       " 7254: '796',\n",
       " 8361: '795',\n",
       " 5295: '794',\n",
       " 5118: '793',\n",
       " 6170: '792',\n",
       " 5296: '791',\n",
       " 4826: '790',\n",
       " 20858: \"nikko's\",\n",
       " 20859: 'unsaleable',\n",
       " 5720: '799',\n",
       " 5693: '798',\n",
       " 2143: 'seriously',\n",
       " 16352: 'trauma',\n",
       " 20860: 'tvbh',\n",
       " 20861: 'macedon',\n",
       " 21906: 'disintegrated',\n",
       " 21909: 'adddition',\n",
       " 2244: 'incentives',\n",
       " 5944: 'complicated',\n",
       " 20864: 'reevaluating',\n",
       " 21921: 'thatching',\n",
       " 7981: 'brasil',\n",
       " 20865: '79p',\n",
       " 4951: 'wrong',\n",
       " 8822: 'initiate',\n",
       " 16353: 'aboard',\n",
       " 7255: 'saving',\n",
       " 8823: 'spoken',\n",
       " 16364: 'parkinson',\n",
       " 65: 'one',\n",
       " 20867: 'ont',\n",
       " 7256: 'concert',\n",
       " 16354: \"boston's\",\n",
       " 13859: 'stifled',\n",
       " 4622: 'types',\n",
       " 20868: 'lingering',\n",
       " 16356: 'surges',\n",
       " 20869: 'hurdman',\n",
       " 16357: 'herds',\n",
       " 14114: 'absorbs',\n",
       " 4681: 'surged',\n",
       " 14211: 'dalkon',\n",
       " 13860: 'crossroads',\n",
       " 20870: 'shakeup',\n",
       " 20871: 'disasterous',\n",
       " 11021: 'illness',\n",
       " 3242: 'turned',\n",
       " 3801: 'locations',\n",
       " 12120: 'tyranite',\n",
       " 13861: 'minesweepers',\n",
       " 7257: 'turner',\n",
       " 20872: 'borough',\n",
       " 12358: 'underlines',\n",
       " 20873: \"bancorporation's\",\n",
       " 20874: 'fashionable',\n",
       " 20875: \"ae's\",\n",
       " 16358: 'dilutions',\n",
       " 9472: 'goodman',\n",
       " 10510: 'unlawfully',\n",
       " 16359: 'mayer',\n",
       " 16360: 'printer',\n",
       " 20877: 'offload',\n",
       " 13862: 'opposite',\n",
       " 738: 'buffer',\n",
       " 9398: 'printed',\n",
       " 16361: 'pequiven',\n",
       " 13863: 'panoche',\n",
       " 20878: 'knowingly',\n",
       " 16362: 'ecusta',\n",
       " 20879: 'thsl',\n",
       " 8825: 'phil',\n",
       " 13864: 'jitters',\n",
       " 16363: 'touche',\n",
       " 20881: 'jittery',\n",
       " 3291: 'friction',\n",
       " 16365: 'fecal',\n",
       " 22068: 'resurgance',\n",
       " 20882: 'heeding',\n",
       " 2363: 'soviets',\n",
       " 16366: 'imagined',\n",
       " 16367: 'transact',\n",
       " 20883: 'califoirnia',\n",
       " 9399: \"chrysler's\",\n",
       " 16368: 'respecitvely',\n",
       " 16369: 'presse',\n",
       " 10084: 'euromarket',\n",
       " 12121: 'guarded',\n",
       " 16371: 'satisfacotry',\n",
       " 20884: 'authroization',\n",
       " 20885: 'simplistic',\n",
       " 20886: 'monde',\n",
       " 4102: 'awaiting',\n",
       " 13865: 'recombinant',\n",
       " 20887: 'refinancement',\n",
       " 20888: 'comserv',\n",
       " 20889: 'kitakyushu',\n",
       " 16372: 'pima',\n",
       " 11022: 'basle',\n",
       " 20891: '6250',\n",
       " 16373: 'choudhury',\n",
       " 8826: 'vision',\n",
       " 20892: 'interruptible',\n",
       " 13866: 'weatherford',\n",
       " 7982: '832',\n",
       " 5694: '833',\n",
       " 4420: '830',\n",
       " 5119: '831',\n",
       " 5297: '836',\n",
       " 4553: '837',\n",
       " 6172: '834',\n",
       " 4952: '835',\n",
       " 22144: 'alarming',\n",
       " 5695: '838',\n",
       " 6173: '839',\n",
       " 20893: '524p',\n",
       " 20894: 'sponsorship',\n",
       " 12122: 'vendex',\n",
       " 20895: \"amsouth's\",\n",
       " 20896: 'kilometer',\n",
       " 10086: 'enjoys',\n",
       " 20897: 'illiberal',\n",
       " 6174: 'punta',\n",
       " 20898: 'punte',\n",
       " 10087: 'girozentrale',\n",
       " 20899: 'missstatements',\n",
       " 10088: 'marietta',\n",
       " 6175: 'awards',\n",
       " 3635: 'concentrated',\n",
       " 20900: '83p',\n",
       " 13867: 'developpement',\n",
       " 13868: 'rhodes',\n",
       " 5696: 'matheson',\n",
       " 20901: '1720',\n",
       " 20902: 'paring',\n",
       " 35: 's',\n",
       " 4953: 'concentrates',\n",
       " 16374: \"can's\",\n",
       " 22183: 'polysaturated',\n",
       " 20903: 'parini',\n",
       " 13869: 'baden',\n",
       " 20904: 'bader',\n",
       " 12123: 'buoyancy',\n",
       " 20905: 'erdem',\n",
       " 16375: 'properites',\n",
       " 20906: 'comparitive',\n",
       " 12124: 'practises',\n",
       " 20907: 'collides',\n",
       " 189: 'west',\n",
       " 20908: 'wess',\n",
       " 13870: 'collided',\n",
       " 20909: 'practised',\n",
       " 20910: \"amalgamated's\",\n",
       " 20911: 'motives',\n",
       " 1378: 'wants',\n",
       " 1273: 'formed',\n",
       " 20912: 'readings',\n",
       " 12125: 'geothermal',\n",
       " 7315: 'tightened',\n",
       " 11023: \"d'or\",\n",
       " 1109: 'former',\n",
       " 20913: 'venezulean',\n",
       " 19935: 'curd',\n",
       " 12126: 'squeezes',\n",
       " 1019: 'newspaper',\n",
       " 817: 'situation',\n",
       " 13871: 'ivey',\n",
       " 3636: 'engaged',\n",
       " 13872: 'dubious',\n",
       " 17061: 'cayacq',\n",
       " 20916: 'cobol',\n",
       " 20917: 'limping',\n",
       " 883: 'technology',\n",
       " 20919: 'koerner',\n",
       " 16376: 'debilitating',\n",
       " 7983: 'verified',\n",
       " 4010: 'otto',\n",
       " 20920: '7770',\n",
       " 16377: 'emulsions',\n",
       " 16378: \"onic's\",\n",
       " 9075: 'slate',\n",
       " 20921: 'wires',\n",
       " 5506: 'edged',\n",
       " 20922: 'assigns',\n",
       " 1341: 'singapore',\n",
       " 20923: 'deflate',\n",
       " 20924: \"strategy's\",\n",
       " 16379: 'walesa',\n",
       " 4554: 'advertisement',\n",
       " 20925: 'luyten',\n",
       " 20926: 'shrortly',\n",
       " 20927: 'corpoartion',\n",
       " 22290: 'preferance',\n",
       " 16380: 'tracking',\n",
       " 13874: 'sunnyvale',\n",
       " 20928: 'colorants',\n",
       " 16381: 'persistently',\n",
       " 16382: \"officers'\",\n",
       " 20929: \"his's\",\n",
       " 367: 'being',\n",
       " 7259: 'divestitures',\n",
       " 20930: 'steamer',\n",
       " 20931: 'rover',\n",
       " 8362: 'grounded',\n",
       " 16383: \"businessmen's\",\n",
       " 16384: 'cyanidation',\n",
       " 20932: 'overthrow',\n",
       " 20933: 'partnerhip',\n",
       " 16385: 'sumt',\n",
       " 8827: 'sums',\n",
       " 16386: 'oelmuehle',\n",
       " 16387: 'unveil',\n",
       " 13875: 'gestures',\n",
       " 20934: 'penta',\n",
       " 2544: 'traffic',\n",
       " 2428: 'preference',\n",
       " 20935: 'sumi',\n",
       " 166: 'world',\n",
       " 9400: 'postal',\n",
       " 16388: 'bced',\n",
       " 12128: 'dornbush',\n",
       " 14215: 'confine',\n",
       " 20936: '2555',\n",
       " 5945: \"zambia's\",\n",
       " 20937: 'superiority',\n",
       " 20938: 'militate',\n",
       " 2395: 'satisfactory',\n",
       " 20939: 'superintendent',\n",
       " 5946: 'tvx',\n",
       " 16389: 'tvt',\n",
       " 6698: 'magma',\n",
       " 20940: 'diving',\n",
       " 15548: 'tvb',\n",
       " 13876: 'seaman',\n",
       " 11025: 'matsunaga',\n",
       " 4827: '919',\n",
       " 5298: '918',\n",
       " 17070: 'refundable',\n",
       " 5947: '914',\n",
       " 7260: '917',\n",
       " 6699: '916',\n",
       " 5507: '911',\n",
       " 4828: '910',\n",
       " 10213: 'restoring',\n",
       " 4555: '912',\n",
       " 20942: 'squabble',\n",
       " 7261: 'retains',\n",
       " 20943: \"partner's\",\n",
       " 5300: 'leadership',\n",
       " 11026: 'graaf',\n",
       " 20944: 'spacelab',\n",
       " 1800: 'thailand',\n",
       " 9402: 'graan',\n",
       " 20945: 'exasperating',\n",
       " 12129: 'hartmarx',\n",
       " 16390: 'frights',\n",
       " 20946: 'niall',\n",
       " 11027: 'johnston',\n",
       " 16391: '91p',\n",
       " 16392: 'sensitively',\n",
       " 6016: 'porsche',\n",
       " 15494: 'prepares',\n",
       " 12130: 'lively',\n",
       " 10686: 'stoppages',\n",
       " 16394: \"associated's\",\n",
       " 12131: 'pivot',\n",
       " 1037: 'series',\n",
       " 24050: 'sese',\n",
       " 7604: 'bubble',\n",
       " 16395: 'trusses',\n",
       " 20949: 'interestate',\n",
       " 20950: 'continents',\n",
       " 20951: 'societal',\n",
       " 28: 'with',\n",
       " 6176: 'pull',\n",
       " 6700: 'rush',\n",
       " 6222: 'monopoly',\n",
       " 20953: 'operationally',\n",
       " 20954: 'dirty',\n",
       " 10090: 'abuses',\n",
       " 7262: 'prudhoe',\n",
       " 5949: 'pulp',\n",
       " 16396: 'rust',\n",
       " 20955: 'hellman',\n",
       " 20956: 'amdec',\n",
       " 16397: 'australasian',\n",
       " 13878: 'watches',\n",
       " 20957: 'hypertension',\n",
       " 20958: \"hemdale's\",\n",
       " 16398: 'formulation',\n",
       " 7605: 'watched',\n",
       " 20959: 'jargon',\n",
       " 13879: 'cream',\n",
       " 9404: 'ideally',\n",
       " 11028: 'ryavec',\n",
       " 20960: 'microoganisms',\n",
       " 13880: 'indemnify',\n",
       " 20961: 'wincenty',\n",
       " 20962: 'waving',\n",
       " 20963: \"multifood's\",\n",
       " 20964: 'midges',\n",
       " 11029: 'natalie',\n",
       " 13881: 'crosbie',\n",
       " 20965: 'posible',\n",
       " 13882: 'omnibus',\n",
       " 20966: 'assetsof',\n",
       " 13883: 'tricks',\n",
       " 16399: 'rs',\n",
       " 20967: 'kilogram',\n",
       " 25363: 'pruning',\n",
       " 13884: 'dyer',\n",
       " 20968: 'dyes',\n",
       " 20969: 'legislatures',\n",
       " 16400: 'scm',\n",
       " 9405: 'sci',\n",
       " 20970: 'riedel',\n",
       " 16401: 'ceramic',\n",
       " 6701: 'unitholders',\n",
       " 13885: 'scb',\n",
       " 20971: 'dn11',\n",
       " 20972: 'conditionality',\n",
       " 13807: \"stock's\",\n",
       " 20973: 'masland',\n",
       " 7606: 'causes',\n",
       " 10091: 'riots',\n",
       " 20974: 'norf',\n",
       " 9406: 'nord',\n",
       " 3893: 'midwest',\n",
       " 13886: 'tamils',\n",
       " 16402: 'ofthe',\n",
       " 3421: \"colombia's\",\n",
       " 11030: '24th',\n",
       " 20975: 'sant',\n",
       " 10092: 'moines',\n",
       " 22577: 'electrotechnical',\n",
       " 24534: 'proceeded',\n",
       " 20976: 'sanz',\n",
       " 13887: 'insufficiently',\n",
       " 20977: 'sang',\n",
       " 5950: 'sand',\n",
       " 16404: 'bracho',\n",
       " 805: 'small',\n",
       " 20978: 'workloads',\n",
       " 6702: 'sank',\n",
       " 20979: 'kemper',\n",
       " 16405: 'abbreviated',\n",
       " 13888: 'quicker',\n",
       " 3802: '199',\n",
       " 3243: '198',\n",
       " 2661: '195',\n",
       " 3080: '194',\n",
       " 4310: '197',\n",
       " 3894: '196',\n",
       " 2850: '191',\n",
       " 2199: '190',\n",
       " 3481: '193',\n",
       " 3350: '192',\n",
       " 582: 'past',\n",
       " 20980: 'fractionation',\n",
       " 20981: 'displays',\n",
       " 3081: 'pass',\n",
       " 202: 'investment',\n",
       " 27062: 'quals',\n",
       " 16406: 'quicken',\n",
       " 20983: \"centronic's\",\n",
       " 20984: 'menswear',\n",
       " 16407: 'clock',\n",
       " 20985: 'teape',\n",
       " 20986: 'teapa',\n",
       " 10093: 'prevailed',\n",
       " 9407: 'hebei',\n",
       " ...}"
      ]
     },
     "execution_count": 36,
     "metadata": {},
     "output_type": "execute_result"
    }
   ],
   "source": [
    "reverse_word_index"
   ]
  },
  {
   "cell_type": "code",
   "execution_count": 37,
   "metadata": {},
   "outputs": [
    {
     "data": {
      "text/plain": [
       "'? ? ? said as a result of its december acquisition of space co it expects earnings per share in 1987 of 1 15 to 1 30 dlrs per share up from 70 cts in 1986 the company said pretax net should rise to nine to 10 mln dlrs from six mln dlrs in 1986 and rental operation revenues to 19 to 22 mln dlrs from 12 5 mln dlrs it said cash flow per share this year should be 2 50 to three dlrs reuter 3'"
      ]
     },
     "execution_count": 37,
     "metadata": {},
     "output_type": "execute_result"
    }
   ],
   "source": [
    "decoded_newswire"
   ]
  },
  {
   "cell_type": "code",
   "execution_count": 38,
   "metadata": {},
   "outputs": [
    {
     "data": {
      "text/plain": [
       "3"
      ]
     },
     "execution_count": 38,
     "metadata": {},
     "output_type": "execute_result"
    }
   ],
   "source": [
    "#Метка, определяющая класс примера, — это целое число между 0 и 45 — индекс темы:\n",
    "train_labels[10]"
   ]
  },
  {
   "cell_type": "raw",
   "metadata": {},
   "source": [
    "Для векторизации данных можно повторно использовать код из предыдущего примера."
   ]
  },
  {
   "cell_type": "code",
   "execution_count": 39,
   "metadata": {},
   "outputs": [],
   "source": [
    "import numpy as np"
   ]
  },
  {
   "cell_type": "code",
   "execution_count": 40,
   "metadata": {},
   "outputs": [],
   "source": [
    "def vectorize_sequences(sequences, dimension=10000):\n",
    "    results = np.zeros((len(sequences), dimension)) \n",
    "    for i, sequence in enumerate(sequences):\n",
    "        results[i, sequence] = 1. \n",
    "    return results"
   ]
  },
  {
   "cell_type": "code",
   "execution_count": 41,
   "metadata": {},
   "outputs": [],
   "source": [
    "x_train = vectorize_sequences(train_data) # Векторизованные обучающие данные\n",
    "x_test = vectorize_sequences(test_data) # Векторизованные контрольные данные"
   ]
  },
  {
   "cell_type": "code",
   "execution_count": 42,
   "metadata": {},
   "outputs": [
    {
     "data": {
      "text/plain": [
       "array([[0., 1., 1., ..., 0., 0., 0.],\n",
       "       [0., 1., 1., ..., 0., 0., 0.],\n",
       "       [0., 1., 1., ..., 0., 0., 0.],\n",
       "       ...,\n",
       "       [0., 1., 1., ..., 0., 0., 0.],\n",
       "       [0., 1., 1., ..., 0., 0., 0.],\n",
       "       [0., 1., 1., ..., 0., 0., 0.]])"
      ]
     },
     "execution_count": 42,
     "metadata": {},
     "output_type": "execute_result"
    }
   ],
   "source": [
    "x_train"
   ]
  },
  {
   "cell_type": "code",
   "execution_count": 43,
   "metadata": {},
   "outputs": [
    {
     "data": {
      "text/plain": [
       "array([[0., 1., 1., ..., 0., 0., 0.],\n",
       "       [0., 1., 1., ..., 0., 0., 0.],\n",
       "       [0., 1., 1., ..., 0., 0., 0.],\n",
       "       ...,\n",
       "       [0., 1., 0., ..., 0., 0., 0.],\n",
       "       [0., 1., 1., ..., 0., 0., 0.],\n",
       "       [0., 1., 1., ..., 0., 0., 0.]])"
      ]
     },
     "execution_count": 43,
     "metadata": {},
     "output_type": "execute_result"
    }
   ],
   "source": [
    "x_test"
   ]
  },
  {
   "cell_type": "raw",
   "metadata": {},
   "source": [
    "Векторизовать метки можно одним из двух способов: сохранить их в тензоре целых чисел или использовать прямое кодирование. Прямое кодирование (one - hot encoding) широко используется для форматирования категорий и также на- зывается кодированием категорий (categorical encoding). В данном случае прямое кодирование меток заключается в конструировании вектора с нулевыми элементами со значением 1 в элементе, индекс которого соответствует индексу метки. Например:"
   ]
  },
  {
   "cell_type": "code",
   "execution_count": 44,
   "metadata": {},
   "outputs": [],
   "source": [
    "def to_one_hot(labels, dimension=46):\n",
    "    results = np.zeros((len(labels), dimension))\n",
    "    for i, label in enumerate(labels):\n",
    "        results[i, label] = 1. \n",
    "    return results"
   ]
  },
  {
   "cell_type": "code",
   "execution_count": 45,
   "metadata": {},
   "outputs": [],
   "source": [
    "one_hot_train_labels = to_one_hot(train_labels) \n",
    "one_hot_test_labels = to_one_hot(test_labels)"
   ]
  },
  {
   "cell_type": "code",
   "execution_count": 46,
   "metadata": {},
   "outputs": [
    {
     "data": {
      "text/plain": [
       "array([[0., 0., 0., ..., 0., 0., 0.],\n",
       "       [0., 0., 0., ..., 0., 0., 0.],\n",
       "       [0., 0., 0., ..., 0., 0., 0.],\n",
       "       ...,\n",
       "       [0., 0., 0., ..., 0., 0., 0.],\n",
       "       [0., 0., 0., ..., 0., 0., 0.],\n",
       "       [0., 0., 0., ..., 0., 0., 0.]])"
      ]
     },
     "execution_count": 46,
     "metadata": {},
     "output_type": "execute_result"
    }
   ],
   "source": [
    "one_hot_train_labels"
   ]
  },
  {
   "cell_type": "code",
   "execution_count": 47,
   "metadata": {},
   "outputs": [
    {
     "data": {
      "text/plain": [
       "array([[0., 0., 0., ..., 0., 0., 0.],\n",
       "       [0., 0., 0., ..., 0., 0., 0.],\n",
       "       [0., 1., 0., ..., 0., 0., 0.],\n",
       "       ...,\n",
       "       [0., 0., 0., ..., 0., 0., 0.],\n",
       "       [0., 0., 0., ..., 0., 0., 0.],\n",
       "       [0., 0., 0., ..., 0., 0., 0.]])"
      ]
     },
     "execution_count": 47,
     "metadata": {},
     "output_type": "execute_result"
    }
   ],
   "source": [
    "one_hot_test_labels"
   ]
  },
  {
   "cell_type": "markdown",
   "metadata": {},
   "source": [
    "### Следует отметить, что этот способ уже реализован в Keras, как мы видели в примере MNIST:"
   ]
  },
  {
   "cell_type": "code",
   "execution_count": 48,
   "metadata": {},
   "outputs": [],
   "source": [
    "from keras.utils.np_utils import to_categorical\n",
    "\n",
    "one_hot_train_labels = to_categorical(train_labels) #Векторизованные обучающие данные\n",
    "one_hot_test_labels = to_categorical(test_labels) #Векторизованные контрольные данные"
   ]
  },
  {
   "cell_type": "code",
   "execution_count": 49,
   "metadata": {},
   "outputs": [
    {
     "data": {
      "text/plain": [
       "array([[0., 0., 0., ..., 0., 0., 0.],\n",
       "       [0., 0., 0., ..., 0., 0., 0.],\n",
       "       [0., 0., 0., ..., 0., 0., 0.],\n",
       "       ...,\n",
       "       [0., 0., 0., ..., 0., 0., 0.],\n",
       "       [0., 0., 0., ..., 0., 0., 0.],\n",
       "       [0., 0., 0., ..., 0., 0., 0.]], dtype=float32)"
      ]
     },
     "execution_count": 49,
     "metadata": {},
     "output_type": "execute_result"
    }
   ],
   "source": [
    "one_hot_train_labels"
   ]
  },
  {
   "cell_type": "code",
   "execution_count": 50,
   "metadata": {},
   "outputs": [
    {
     "data": {
      "text/plain": [
       "array([[0., 0., 0., ..., 0., 0., 0.],\n",
       "       [0., 0., 0., ..., 0., 0., 0.],\n",
       "       [0., 1., 0., ..., 0., 0., 0.],\n",
       "       ...,\n",
       "       [0., 0., 0., ..., 0., 0., 0.],\n",
       "       [0., 0., 0., ..., 0., 0., 0.],\n",
       "       [0., 0., 0., ..., 0., 0., 0.]], dtype=float32)"
      ]
     },
     "execution_count": 50,
     "metadata": {},
     "output_type": "execute_result"
    }
   ],
   "source": [
    "one_hot_test_labels"
   ]
  },
  {
   "cell_type": "raw",
   "metadata": {},
   "source": [
    "Задача классификации по темам напоминает предыдущую задачу классификации отзывов: в обоих случаях мы пытаемся классифицировать короткие фрагменты текста. Но в данном случае количество выходных классов увеличилось с 2 до 46. Размерность выходного пространства теперь намного больше.\n",
    "\n",
    "В стеке слоев Dense, как в предыдущем примере, каждый слой имеет доступ только к информации, предоставленной предыдущим слоем. Если один слой отбросит какую-то информацию, важную для решения задачи классификации, последую- щие слои не смогут восстановить ее: каждый слой может стать узким местом для информации. В предыдущем примере мы использовали 16-мерные промежуточные слои, но 16-мерное пространство может оказаться слишком ограниченным для классификации на 46 разных классов: такие малоразмерные слои могут сыграть роль «бутылочного горлышка» для информации, не пропуская важные данные.\n",
    "\n",
    "По этой причине в данном примере мы будем использовать слои с большим коли- чеством измерений. Давайте выберем 64 нейрона."
   ]
  },
  {
   "cell_type": "code",
   "execution_count": 51,
   "metadata": {},
   "outputs": [],
   "source": [
    "from keras import models\n",
    "from keras import layers\n",
    "\n",
    "model = models.Sequential()\n",
    "model.add(layers.Dense(64, activation='relu', input_shape=(10000,)))\n",
    "model.add(layers.Dense(64, activation='relu'))\n",
    "model.add(layers.Dense(46, activation='softmax'))"
   ]
  },
  {
   "cell_type": "raw",
   "metadata": {},
   "source": [
    "Сеть завершается слоем Dense с размером 46. Это означает, что для каждого входного образца сеть будет выводить 46-мерный вектор. Каждый элемент этого вектора (каждое измерение) представляет собой отдельный выходной класс.\n",
    "\n",
    "Последний слой использует функцию активации softmax. Мы уже видели этот шаблон в примере MNIST. Он означает, что сеть будет выводить распределение вероятностей по 46 разным классам — для каждого образца на входе сеть будет возвращать 46-мерный вектор, где output[i] — вероятность принадлежности образца классу i. Сумма 46 элементов всегда будет равна 1.\n",
    "\n",
    "Лучшим вариантом в данном случае является использование функции потерь categorical_crossentropy. Она определяет расстояние между распределениями вероятностей: в данном случае между распределением вероятности на выходе сети и истинным распределением меток. Минимизируя расстояние между этими двумя распределениями, мы учим сеть выводить результат, максимально близкий к истинным меткам."
   ]
  },
  {
   "cell_type": "code",
   "execution_count": 52,
   "metadata": {},
   "outputs": [],
   "source": [
    "model.compile(optimizer='rmsprop',\n",
    "              loss='categorical_crossentropy',\n",
    "              metrics=['accuracy'])"
   ]
  },
  {
   "cell_type": "raw",
   "metadata": {},
   "source": [
    "Для контроля точности модели создадим проверочный набор, выбрав 1000 образцов из набора обучающих данных."
   ]
  },
  {
   "cell_type": "code",
   "execution_count": 53,
   "metadata": {},
   "outputs": [],
   "source": [
    "x_val = x_train[:1000]\n",
    "partial_x_train = x_train[1000:]\n",
    "\n",
    "y_val = one_hot_train_labels[:1000]\n",
    "partial_y_train = one_hot_train_labels[1000:]"
   ]
  },
  {
   "cell_type": "code",
   "execution_count": 54,
   "metadata": {},
   "outputs": [
    {
     "name": "stdout",
     "output_type": "stream",
     "text": [
      "Train on 7982 samples, validate on 1000 samples\n",
      "Epoch 1/20\n",
      "7982/7982 [==============================] - 2s 222us/step - loss: 2.5137 - accuracy: 0.5423 - val_loss: 1.6678 - val_accuracy: 0.6620\n",
      "Epoch 2/20\n",
      "7982/7982 [==============================] - 1s 142us/step - loss: 1.3937 - accuracy: 0.7102 - val_loss: 1.2853 - val_accuracy: 0.7120\n",
      "Epoch 3/20\n",
      "7982/7982 [==============================] - 1s 118us/step - loss: 1.0360 - accuracy: 0.7766 - val_loss: 1.1127 - val_accuracy: 0.7620\n",
      "Epoch 4/20\n",
      "7982/7982 [==============================] - 1s 141us/step - loss: 0.8135 - accuracy: 0.8252 - val_loss: 1.0130 - val_accuracy: 0.7770\n",
      "Epoch 5/20\n",
      "7982/7982 [==============================] - 1s 171us/step - loss: 0.6486 - accuracy: 0.8614 - val_loss: 0.9617 - val_accuracy: 0.7900\n",
      "Epoch 6/20\n",
      "7982/7982 [==============================] - 1s 155us/step - loss: 0.5171 - accuracy: 0.8930 - val_loss: 0.9164 - val_accuracy: 0.7990\n",
      "Epoch 7/20\n",
      "7982/7982 [==============================] - 1s 152us/step - loss: 0.4181 - accuracy: 0.9132 - val_loss: 0.9081 - val_accuracy: 0.8140\n",
      "Epoch 8/20\n",
      "7982/7982 [==============================] - 1s 121us/step - loss: 0.3418 - accuracy: 0.9281 - val_loss: 0.9005 - val_accuracy: 0.8150\n",
      "Epoch 9/20\n",
      "7982/7982 [==============================] - 1s 141us/step - loss: 0.2880 - accuracy: 0.9377 - val_loss: 0.8781 - val_accuracy: 0.8150\n",
      "Epoch 10/20\n",
      "7982/7982 [==============================] - 1s 132us/step - loss: 0.2414 - accuracy: 0.9451 - val_loss: 0.8917 - val_accuracy: 0.8140\n",
      "Epoch 11/20\n",
      "7982/7982 [==============================] - 1s 103us/step - loss: 0.2082 - accuracy: 0.9493 - val_loss: 0.9058 - val_accuracy: 0.8200\n",
      "Epoch 12/20\n",
      "7982/7982 [==============================] - 1s 147us/step - loss: 0.1879 - accuracy: 0.9506 - val_loss: 0.9529 - val_accuracy: 0.8110\n",
      "Epoch 13/20\n",
      "7982/7982 [==============================] - 1s 142us/step - loss: 0.1614 - accuracy: 0.9543 - val_loss: 0.9635 - val_accuracy: 0.8090\n",
      "Epoch 14/20\n",
      "7982/7982 [==============================] - 1s 134us/step - loss: 0.1506 - accuracy: 0.9555 - val_loss: 0.9789 - val_accuracy: 0.8140\n",
      "Epoch 15/20\n",
      "7982/7982 [==============================] - 1s 148us/step - loss: 0.1381 - accuracy: 0.9554 - val_loss: 1.0085 - val_accuracy: 0.8130\n",
      "Epoch 16/20\n",
      "7982/7982 [==============================] - 1s 144us/step - loss: 0.1346 - accuracy: 0.9536 - val_loss: 1.0363 - val_accuracy: 0.8010\n",
      "Epoch 17/20\n",
      "7982/7982 [==============================] - 1s 121us/step - loss: 0.1262 - accuracy: 0.9553 - val_loss: 1.0663 - val_accuracy: 0.7970\n",
      "Epoch 18/20\n",
      "7982/7982 [==============================] - 1s 115us/step - loss: 0.1206 - accuracy: 0.9582 - val_loss: 1.0512 - val_accuracy: 0.8080\n",
      "Epoch 19/20\n",
      "7982/7982 [==============================] - 1s 106us/step - loss: 0.1182 - accuracy: 0.9575 - val_loss: 1.0539 - val_accuracy: 0.8030\n",
      "Epoch 20/20\n",
      "7982/7982 [==============================] - 1s 122us/step - loss: 0.1139 - accuracy: 0.9568 - val_loss: 1.0549 - val_accuracy: 0.8090\n"
     ]
    }
   ],
   "source": [
    "history = model.fit(partial_x_train, \n",
    "                    partial_y_train,\n",
    "                    epochs=20,\n",
    "                    batch_size=512,\n",
    "                    validation_data=(x_val, y_val))"
   ]
  },
  {
   "cell_type": "code",
   "execution_count": 55,
   "metadata": {},
   "outputs": [],
   "source": [
    "import matplotlib.pyplot as plt"
   ]
  },
  {
   "cell_type": "code",
   "execution_count": 56,
   "metadata": {},
   "outputs": [
    {
     "data": {
      "image/png": "[encoded data removed]",
      "text/plain": [
       "<Figure size 432x288 with 1 Axes>"
      ]
     },
     "metadata": {
      "needs_background": "light"
     },
     "output_type": "display_data"
    }
   ],
   "source": [
    "loss = history.history['loss'] \n",
    "val_loss = history.history['val_loss']\n",
    "\n",
    "epochs = range(1, len(loss) + 1)\n",
    "\n",
    "plt.plot(epochs, loss, 'bo', label='Training loss')\n",
    "plt.plot(epochs, val_loss, 'b', label='Validation loss')\n",
    "plt.title('Training and validation loss')\n",
    "plt.xlabel('Epochs')\n",
    "plt.ylabel('Loss') \n",
    "plt.legend()\n",
    "\n",
    "plt.show()"
   ]
  },
  {
   "cell_type": "code",
   "execution_count": 57,
   "metadata": {},
   "outputs": [
    {
     "data": {
      "image/png": "[encoded data removed]",
      "text/plain": [
       "<Figure size 432x288 with 1 Axes>"
      ]
     },
     "metadata": {
      "needs_background": "light"
     },
     "output_type": "display_data"
    }
   ],
   "source": [
    "plt.clf() \n",
    "\n",
    "acc = history.history['accuracy']\n",
    "val_acc = history.history['val_accuracy']\n",
    "\n",
    "plt.plot(epochs, acc, 'bo', label='Training acc')\n",
    "plt.plot(epochs, val_acc, 'b', label='Validation acc')\n",
    "plt.title('Training and validation accuracy')\n",
    "plt.xlabel('Epochs')\n",
    "plt.ylabel('Accuracy')\n",
    "plt.legend()\n",
    "\n",
    "plt.show()"
   ]
  },
  {
   "cell_type": "raw",
   "metadata": {},
   "source": [
    "Переобучение сети наступает в девятой эпохе. Давайте теперь обучим новую сеть до девятой эпохи и затем оценим получившийся результат на контрольных данных."
   ]
  },
  {
   "cell_type": "code",
   "execution_count": 58,
   "metadata": {},
   "outputs": [
    {
     "name": "stdout",
     "output_type": "stream",
     "text": [
      "Train on 7982 samples, validate on 1000 samples\n",
      "Epoch 1/9\n",
      "7982/7982 [==============================] - 1s 139us/step - loss: 2.6166 - accuracy: 0.5345 - val_loss: 1.7332 - val_accuracy: 0.6340\n",
      "Epoch 2/9\n",
      "7982/7982 [==============================] - 1s 118us/step - loss: 1.4062 - accuracy: 0.7090 - val_loss: 1.2843 - val_accuracy: 0.7160\n",
      "Epoch 3/9\n",
      "7982/7982 [==============================] - 1s 105us/step - loss: 1.0379 - accuracy: 0.7772 - val_loss: 1.1359 - val_accuracy: 0.7470\n",
      "Epoch 4/9\n",
      "7982/7982 [==============================] - 1s 113us/step - loss: 0.8137 - accuracy: 0.8270 - val_loss: 1.0139 - val_accuracy: 0.7680\n",
      "Epoch 5/9\n",
      "7982/7982 [==============================] - 1s 141us/step - loss: 0.6500 - accuracy: 0.8604 - val_loss: 0.9438 - val_accuracy: 0.7950\n",
      "Epoch 6/9\n",
      "7982/7982 [==============================] - 1s 106us/step - loss: 0.5136 - accuracy: 0.8903 - val_loss: 0.9219 - val_accuracy: 0.8000\n",
      "Epoch 7/9\n",
      "7982/7982 [==============================] - 1s 145us/step - loss: 0.4158 - accuracy: 0.9110 - val_loss: 0.8881 - val_accuracy: 0.8000\n",
      "Epoch 8/9\n",
      "7982/7982 [==============================] - 1s 142us/step - loss: 0.3354 - accuracy: 0.9280 - val_loss: 0.9297 - val_accuracy: 0.7970\n",
      "Epoch 9/9\n",
      "7982/7982 [==============================] - 1s 151us/step - loss: 0.2770 - accuracy: 0.9392 - val_loss: 0.8792 - val_accuracy: 0.8090\n",
      "2246/2246 [==============================] - 0s 160us/step\n"
     ]
    }
   ],
   "source": [
    "model = models.Sequential()\n",
    "model.add(layers.Dense(64, activation='relu', input_shape=(10000,)))\n",
    "model.add(layers.Dense(64, activation='relu'))\n",
    "model.add(layers.Dense(46, activation='softmax'))\n",
    "\n",
    "model.compile(optimizer='rmsprop',\n",
    "              loss='categorical_crossentropy',\n",
    "              metrics=['accuracy'])\n",
    "\n",
    "model.fit(partial_x_train,\n",
    "          partial_y_train,\n",
    "          epochs=9,\n",
    "          batch_size=512,\n",
    "          validation_data=(x_val, y_val))\n",
    "\n",
    "results = model.evaluate(x_test, one_hot_test_labels)"
   ]
  },
  {
   "cell_type": "code",
   "execution_count": 59,
   "metadata": {},
   "outputs": [
    {
     "data": {
      "text/plain": [
       "[0.980120306448117, 0.7849510312080383]"
      ]
     },
     "execution_count": 59,
     "metadata": {},
     "output_type": "execute_result"
    }
   ],
   "source": [
    "results"
   ]
  },
  {
   "cell_type": "raw",
   "metadata": {},
   "source": [
    "Теперь можно убедиться в том, что метод predict модели возвращает распределение вероятностей по всем 46 темам. Давайте сгенерируем предсказания для всех контрольных данных."
   ]
  },
  {
   "cell_type": "code",
   "execution_count": 60,
   "metadata": {},
   "outputs": [],
   "source": [
    "predictions = model.predict(x_test)"
   ]
  },
  {
   "cell_type": "code",
   "execution_count": 61,
   "metadata": {},
   "outputs": [
    {
     "data": {
      "text/plain": [
       "(46,)"
      ]
     },
     "execution_count": 61,
     "metadata": {},
     "output_type": "execute_result"
    }
   ],
   "source": [
    "predictions[1].shape"
   ]
  },
  {
   "cell_type": "code",
   "execution_count": 62,
   "metadata": {},
   "outputs": [
    {
     "data": {
      "text/plain": [
       "0.99999994"
      ]
     },
     "execution_count": 62,
     "metadata": {},
     "output_type": "execute_result"
    }
   ],
   "source": [
    "#Сумма коэффициентов этого вектора равна 1:\n",
    "np.sum(predictions[1])"
   ]
  },
  {
   "cell_type": "code",
   "execution_count": 63,
   "metadata": {},
   "outputs": [
    {
     "data": {
      "text/plain": [
       "13"
      ]
     },
     "execution_count": 63,
     "metadata": {},
     "output_type": "execute_result"
    }
   ],
   "source": [
    "#Наибольший элемент, элемент с наибольшей вероятностью, — это предсказанный класс:\n",
    "np.argmax(predictions[4])"
   ]
  },
  {
   "cell_type": "raw",
   "metadata": {},
   "source": [
    "Выше упоминалось, что метки также можно было бы преобразовать в тензор целых чисел, как показано ниже:\n",
    "\n",
    "y_train = np.array(train_labels) \n",
    "y_test = np.array(test_labels)\n",
    "\n",
    "Единственное, что изменилось в данном случае, — функция потерь.\n",
    "В листинге 3.21 использовалась функция потерь categorical_crossentropy, предполагающая, что метки получены методом кодирования категорий. С целочисленными метками следует использовать функцию sparse_categorical_crossentropy:\n",
    "\n",
    "model.compile(optimizer='rmsprop',\n",
    "              loss='sparse_categorical_crossentropy',\n",
    "              metrics=['acc'])\n",
    "              \n",
    "С математической точки зрения эта новая функция потерь равноценна функции categorical_crossentropy; ее отличает только интерфейс."
   ]
  },
  {
   "cell_type": "raw",
   "metadata": {},
   "source": [
    "Выше уже говорилось, что не следует использовать слои, в которых значительно меньше 46 скрытых нейронов, потому что результат является 46-мерным. Теперь давайте посмотрим, что получится, если образуется узкое место для информации из-за промежуточных слоев с размерностями намного меньше 46, например четырехмерных.\n",
    "\n",
    "Теперь сеть показывает точность ~71 % — абсолютное падение составило 8 %. Это падение в основном обусловлено попыткой сжать большой объем информации (достаточной для восстановления гиперплоскостей, разделяющих 46 классов) в промежуточное пространство со слишком малой размерностью. Сети удалось вместить большую часть необходимой информации в эти четырехмерные пред- ставления, но не всю."
   ]
  },
  {
   "cell_type": "code",
   "execution_count": 64,
   "metadata": {},
   "outputs": [
    {
     "name": "stdout",
     "output_type": "stream",
     "text": [
      "Train on 7982 samples, validate on 1000 samples\n",
      "Epoch 1/20\n",
      "7982/7982 [==============================] - 1s 128us/step - loss: 3.5139 - accuracy: 0.1156 - val_loss: 3.1754 - val_accuracy: 0.3550\n",
      "Epoch 2/20\n",
      "7982/7982 [==============================] - 1s 112us/step - loss: 2.8654 - accuracy: 0.3701 - val_loss: 2.6218 - val_accuracy: 0.3840\n",
      "Epoch 3/20\n",
      "7982/7982 [==============================] - 1s 112us/step - loss: 2.3772 - accuracy: 0.4168 - val_loss: 2.2926 - val_accuracy: 0.4220\n",
      "Epoch 4/20\n",
      "7982/7982 [==============================] - 1s 112us/step - loss: 2.0509 - accuracy: 0.4483 - val_loss: 2.0405 - val_accuracy: 0.4460\n",
      "Epoch 5/20\n",
      "7982/7982 [==============================] - 1s 112us/step - loss: 1.7366 - accuracy: 0.4980 - val_loss: 1.7409 - val_accuracy: 0.5850\n",
      "Epoch 6/20\n",
      "7982/7982 [==============================] - 1s 112us/step - loss: 1.4034 - accuracy: 0.6611 - val_loss: 1.5031 - val_accuracy: 0.6530\n",
      "Epoch 7/20\n",
      "7982/7982 [==============================] - 1s 111us/step - loss: 1.1981 - accuracy: 0.6828 - val_loss: 1.4334 - val_accuracy: 0.6610\n",
      "Epoch 8/20\n",
      "7982/7982 [==============================] - 1s 111us/step - loss: 1.0871 - accuracy: 0.7007 - val_loss: 1.4107 - val_accuracy: 0.6660\n",
      "Epoch 9/20\n",
      "7982/7982 [==============================] - 1s 112us/step - loss: 1.0041 - accuracy: 0.7311 - val_loss: 1.3879 - val_accuracy: 0.6890\n",
      "Epoch 10/20\n",
      "7982/7982 [==============================] - 1s 111us/step - loss: 0.9339 - accuracy: 0.7641 - val_loss: 1.3742 - val_accuracy: 0.7050\n",
      "Epoch 11/20\n",
      "7982/7982 [==============================] - 1s 111us/step - loss: 0.8735 - accuracy: 0.7829 - val_loss: 1.3920 - val_accuracy: 0.6990\n",
      "Epoch 12/20\n",
      "7982/7982 [==============================] - 1s 112us/step - loss: 0.8194 - accuracy: 0.7933 - val_loss: 1.3791 - val_accuracy: 0.7120\n",
      "Epoch 13/20\n",
      "7982/7982 [==============================] - 1s 113us/step - loss: 0.7745 - accuracy: 0.8022 - val_loss: 1.3996 - val_accuracy: 0.7060\n",
      "Epoch 14/20\n",
      "7982/7982 [==============================] - 1s 115us/step - loss: 0.7302 - accuracy: 0.8089 - val_loss: 1.4224 - val_accuracy: 0.7100\n",
      "Epoch 15/20\n",
      "7982/7982 [==============================] - 1s 122us/step - loss: 0.6935 - accuracy: 0.8191 - val_loss: 1.4381 - val_accuracy: 0.7080\n",
      "Epoch 16/20\n",
      "7982/7982 [==============================] - 1s 111us/step - loss: 0.6598 - accuracy: 0.8264 - val_loss: 1.4604 - val_accuracy: 0.7120\n",
      "Epoch 17/20\n",
      "7982/7982 [==============================] - 1s 113us/step - loss: 0.6276 - accuracy: 0.8336 - val_loss: 1.4597 - val_accuracy: 0.7140\n",
      "Epoch 18/20\n",
      "7982/7982 [==============================] - 1s 111us/step - loss: 0.6003 - accuracy: 0.8395 - val_loss: 1.5373 - val_accuracy: 0.7060\n",
      "Epoch 19/20\n",
      "7982/7982 [==============================] - 1s 112us/step - loss: 0.5743 - accuracy: 0.8430 - val_loss: 1.5628 - val_accuracy: 0.7040\n",
      "Epoch 20/20\n",
      "7982/7982 [==============================] - 1s 117us/step - loss: 0.5501 - accuracy: 0.8464 - val_loss: 1.5553 - val_accuracy: 0.6990\n",
      "2246/2246 [==============================] - 0s 140us/step\n"
     ]
    }
   ],
   "source": [
    "model = models.Sequential()\n",
    "model.add(layers.Dense(64, activation='relu', input_shape=(10000,)))\n",
    "model.add(layers.Dense(4, activation='relu'))\n",
    "model.add(layers.Dense(46, activation='softmax'))\n",
    "\n",
    "model.compile(optimizer='rmsprop',\n",
    "              loss='categorical_crossentropy',\n",
    "              metrics=['accuracy'])\n",
    "\n",
    "model.fit(partial_x_train,\n",
    "          partial_y_train,\n",
    "          epochs=20,\n",
    "          batch_size=256,\n",
    "          validation_data=(x_val, y_val))\n",
    "\n",
    "results = model.evaluate(x_test, one_hot_test_labels)"
   ]
  },
  {
   "cell_type": "code",
   "execution_count": 65,
   "metadata": {},
   "outputs": [
    {
     "data": {
      "text/plain": [
       "[1.6121739126801597, 0.6914514899253845]"
      ]
     },
     "execution_count": 65,
     "metadata": {},
     "output_type": "execute_result"
    }
   ],
   "source": [
    "results"
   ]
  },
  {
   "cell_type": "code",
   "execution_count": 66,
   "metadata": {},
   "outputs": [
    {
     "name": "stdout",
     "output_type": "stream",
     "text": [
      "Train on 7982 samples, validate on 1000 samples\n",
      "Epoch 1/10\n",
      "7982/7982 [==============================] - 1s 177us/step - loss: 2.5704 - accuracy: 0.5530 - val_loss: 1.8183 - val_accuracy: 0.6400\n",
      "Epoch 2/10\n",
      "7982/7982 [==============================] - 1s 121us/step - loss: 1.4808 - accuracy: 0.7083 - val_loss: 1.3504 - val_accuracy: 0.7160\n",
      "Epoch 3/10\n",
      "7982/7982 [==============================] - 1s 117us/step - loss: 1.0821 - accuracy: 0.7809 - val_loss: 1.1377 - val_accuracy: 0.7710\n",
      "Epoch 4/10\n",
      "7982/7982 [==============================] - 1s 121us/step - loss: 0.8457 - accuracy: 0.8299 - val_loss: 1.0158 - val_accuracy: 0.7990\n",
      "Epoch 5/10\n",
      "7982/7982 [==============================] - 1s 128us/step - loss: 0.6807 - accuracy: 0.8680 - val_loss: 0.9395 - val_accuracy: 0.8090\n",
      "Epoch 6/10\n",
      "7982/7982 [==============================] - 1s 129us/step - loss: 0.5556 - accuracy: 0.8923 - val_loss: 0.8921 - val_accuracy: 0.8180\n",
      "Epoch 7/10\n",
      "7982/7982 [==============================] - 1s 127us/step - loss: 0.4577 - accuracy: 0.9088 - val_loss: 0.8501 - val_accuracy: 0.8250\n",
      "Epoch 8/10\n",
      "7982/7982 [==============================] - 1s 129us/step - loss: 0.3811 - accuracy: 0.9223 - val_loss: 0.8338 - val_accuracy: 0.8190\n",
      "Epoch 9/10\n",
      "7982/7982 [==============================] - 1s 128us/step - loss: 0.3198 - accuracy: 0.9341 - val_loss: 0.8241 - val_accuracy: 0.8230\n",
      "Epoch 10/10\n",
      "7982/7982 [==============================] - 1s 130us/step - loss: 0.2726 - accuracy: 0.9417 - val_loss: 0.8146 - val_accuracy: 0.8290\n",
      "2246/2246 [==============================] - 0s 88us/step\n"
     ]
    }
   ],
   "source": [
    "model = models.Sequential()\n",
    "model.add(layers.Dense(64, activation='relu', input_shape=(10000,)))\n",
    "model.add(layers.Dense(46, activation='softmax'))\n",
    "\n",
    "model.compile(optimizer='rmsprop',\n",
    "              loss='categorical_crossentropy',\n",
    "              metrics=['accuracy'])\n",
    "\n",
    "model.fit(partial_x_train,\n",
    "          partial_y_train,\n",
    "          epochs=10,\n",
    "          batch_size=512,\n",
    "          validation_data=(x_val, y_val))\n",
    "\n",
    "results = model.evaluate(x_test, one_hot_test_labels)"
   ]
  },
  {
   "cell_type": "code",
   "execution_count": 67,
   "metadata": {},
   "outputs": [
    {
     "data": {
      "text/plain": [
       "[0.8944515375186584, 0.799198567867279]"
      ]
     },
     "execution_count": 67,
     "metadata": {},
     "output_type": "execute_result"
    }
   ],
   "source": [
    "results"
   ]
  }
 ],
 "metadata": {
  "kernelspec": {
   "display_name": "Python 3",
   "language": "python",
   "name": "python3"
  },
  "language_info": {
   "codemirror_mode": {
    "name": "ipython",
    "version": 3
   },
   "file_extension": ".py",
   "mimetype": "text/x-python",
   "name": "python",
   "nbconvert_exporter": "python",
   "pygments_lexer": "ipython3",
   "version": "3.7.4"
  }
 },
 "nbformat": 4,
 "nbformat_minor": 2
}
